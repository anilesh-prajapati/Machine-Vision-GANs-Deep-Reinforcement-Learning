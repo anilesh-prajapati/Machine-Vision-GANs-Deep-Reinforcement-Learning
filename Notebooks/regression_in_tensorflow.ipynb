{
 "cells": [
  {
   "cell_type": "markdown",
   "id": "d7245e6a",
   "metadata": {},
   "source": [
    "# Regression Example in TensorFlow"
   ]
  },
  {
   "cell_type": "markdown",
   "id": "45681c23",
   "metadata": {},
   "source": [
    "Predicting house prices in Bostom , Massachusetts"
   ]
  },
  {
   "cell_type": "markdown",
   "id": "9e947f4c",
   "metadata": {},
   "source": [
    "### Load Dependencies"
   ]
  },
  {
   "cell_type": "code",
   "execution_count": 1,
   "id": "2b57a615",
   "metadata": {},
   "outputs": [],
   "source": [
    "import numpy as np\n",
    "from tensorflow.keras.datasets import boston_housing # new!\n",
    "from tensorflow.keras.models import Sequential\n",
    "from tensorflow.keras.layers import Dense, Dropout \n",
    "from tensorflow.keras.layers import BatchNormalization \n",
    "from tensorflow.keras.callbacks import ModelCheckpoint # new!\n",
    "import os # new!"
   ]
  },
  {
   "cell_type": "markdown",
   "id": "ef59fa6d",
   "metadata": {},
   "source": [
    "### Load Data"
   ]
  },
  {
   "cell_type": "code",
   "execution_count": 2,
   "id": "fbfc9d0d",
   "metadata": {},
   "outputs": [
    {
     "name": "stdout",
     "output_type": "stream",
     "text": [
      "Downloading data from https://storage.googleapis.com/tensorflow/tf-keras-datasets/boston_housing.npz\n",
      "57026/57026 [==============================] - 0s 3us/step\n"
     ]
    }
   ],
   "source": [
    "(X_train, y_train), (X_valid, y_valid) = boston_housing.load_data()"
   ]
  },
  {
   "cell_type": "code",
   "execution_count": 3,
   "id": "93e2e8fb",
   "metadata": {},
   "outputs": [
    {
     "data": {
      "text/plain": [
       "(404, 13)"
      ]
     },
     "execution_count": 3,
     "metadata": {},
     "output_type": "execute_result"
    }
   ],
   "source": [
    "X_train.shape"
   ]
  },
  {
   "cell_type": "code",
   "execution_count": 4,
   "id": "78d397cd",
   "metadata": {},
   "outputs": [
    {
     "data": {
      "text/plain": [
       "(102, 13)"
      ]
     },
     "execution_count": 4,
     "metadata": {},
     "output_type": "execute_result"
    }
   ],
   "source": [
    "X_valid.shape"
   ]
  },
  {
   "cell_type": "code",
   "execution_count": 5,
   "id": "725bd271",
   "metadata": {},
   "outputs": [
    {
     "data": {
      "text/plain": [
       "array([  1.23247,   0.     ,   8.14   ,   0.     ,   0.538  ,   6.142  ,\n",
       "        91.7    ,   3.9769 ,   4.     , 307.     ,  21.     , 396.9    ,\n",
       "        18.72   ])"
      ]
     },
     "execution_count": 5,
     "metadata": {},
     "output_type": "execute_result"
    }
   ],
   "source": [
    "X_train[0]"
   ]
  },
  {
   "cell_type": "code",
   "execution_count": 6,
   "id": "5ee23b82",
   "metadata": {},
   "outputs": [
    {
     "data": {
      "text/plain": [
       "15.2"
      ]
     },
     "execution_count": 6,
     "metadata": {},
     "output_type": "execute_result"
    }
   ],
   "source": [
    "y_train[0]"
   ]
  },
  {
   "cell_type": "markdown",
   "id": "8fb1a166",
   "metadata": {},
   "source": [
    "### Design Neural Network Architecture"
   ]
  },
  {
   "cell_type": "code",
   "execution_count": 7,
   "id": "b7f7808c",
   "metadata": {},
   "outputs": [],
   "source": [
    "model = Sequential()\n",
    "\n",
    "# first hidden layer \n",
    "model.add(Dense(32, input_dim=13, activation='relu'))\n",
    "model.add(BatchNormalization())\n",
    "\n",
    "# Second hidden layer:\n",
    "model.add(Dense(16, activation='relu'))\n",
    "model.add(BatchNormalization())\n",
    "model.add(Dropout(0.2))\n",
    "\n",
    "# Ouput layer:\n",
    "model.add(Dense(1, activation='linear'))"
   ]
  },
  {
   "cell_type": "code",
   "execution_count": 8,
   "id": "0d0a4947",
   "metadata": {},
   "outputs": [
    {
     "name": "stdout",
     "output_type": "stream",
     "text": [
      "Model: \"sequential\"\n",
      "_________________________________________________________________\n",
      " Layer (type)                Output Shape              Param #   \n",
      "=================================================================\n",
      " dense (Dense)               (None, 32)                448       \n",
      "                                                                 \n",
      " batch_normalization (BatchN  (None, 32)               128       \n",
      " ormalization)                                                   \n",
      "                                                                 \n",
      " dense_1 (Dense)             (None, 16)                528       \n",
      "                                                                 \n",
      " batch_normalization_1 (Batc  (None, 16)               64        \n",
      " hNormalization)                                                 \n",
      "                                                                 \n",
      " dropout (Dropout)           (None, 16)                0         \n",
      "                                                                 \n",
      " dense_2 (Dense)             (None, 1)                 17        \n",
      "                                                                 \n",
      "=================================================================\n",
      "Total params: 1,185\n",
      "Trainable params: 1,089\n",
      "Non-trainable params: 96\n",
      "_________________________________________________________________\n"
     ]
    }
   ],
   "source": [
    "model.summary()"
   ]
  },
  {
   "cell_type": "markdown",
   "id": "1e99ef06",
   "metadata": {},
   "source": [
    "### Configure Model "
   ]
  },
  {
   "cell_type": "code",
   "execution_count": 9,
   "id": "b6137dcb",
   "metadata": {},
   "outputs": [],
   "source": [
    "model.compile(loss='mean_squared_error', optimizer='nadam')"
   ]
  },
  {
   "cell_type": "code",
   "execution_count": 10,
   "id": "1452eb92",
   "metadata": {},
   "outputs": [],
   "source": [
    "output_dir = 'model_output/'"
   ]
  },
  {
   "cell_type": "code",
   "execution_count": 11,
   "id": "564b1a61",
   "metadata": {},
   "outputs": [],
   "source": [
    "run_name = 'regression_basline'\n",
    "output_path = output_dir + run_name"
   ]
  },
  {
   "cell_type": "code",
   "execution_count": 12,
   "id": "5e0be9ce",
   "metadata": {},
   "outputs": [],
   "source": [
    "if not os.path.exists(output_path):\n",
    "    os.makedirs(output_path)"
   ]
  },
  {
   "cell_type": "code",
   "execution_count": 13,
   "id": "fd9a1b78",
   "metadata": {},
   "outputs": [],
   "source": [
    "modelcheckpoint = ModelCheckpoint(output_path + '/weights.{epoch:02d}.hdf5' , # decimal integers\n",
    "                                 save_weights_only=True)"
   ]
  },
  {
   "cell_type": "markdown",
   "id": "7647236f",
   "metadata": {},
   "source": [
    "### Train !"
   ]
  },
  {
   "cell_type": "code",
   "execution_count": 15,
   "id": "04c1d15e",
   "metadata": {},
   "outputs": [
    {
     "name": "stdout",
     "output_type": "stream",
     "text": [
      "Epoch 1/32\n",
      "51/51 [==============================] - 0s 7ms/step - loss: 512.5151 - val_loss: 694.2935\n",
      "Epoch 2/32\n",
      "51/51 [==============================] - 0s 6ms/step - loss: 477.4895 - val_loss: 561.8386\n",
      "Epoch 3/32\n",
      "51/51 [==============================] - 0s 9ms/step - loss: 447.7862 - val_loss: 573.4167\n",
      "Epoch 4/32\n",
      "51/51 [==============================] - 0s 7ms/step - loss: 412.5865 - val_loss: 574.2456\n",
      "Epoch 5/32\n",
      "51/51 [==============================] - 0s 7ms/step - loss: 378.2771 - val_loss: 527.7382\n",
      "Epoch 6/32\n",
      "51/51 [==============================] - 0s 7ms/step - loss: 335.2429 - val_loss: 547.8359\n",
      "Epoch 7/32\n",
      "51/51 [==============================] - 1s 11ms/step - loss: 301.0364 - val_loss: 530.2228\n",
      "Epoch 8/32\n",
      "51/51 [==============================] - 0s 6ms/step - loss: 259.7699 - val_loss: 288.7511\n",
      "Epoch 9/32\n",
      "51/51 [==============================] - 0s 7ms/step - loss: 222.0566 - val_loss: 366.3605\n",
      "Epoch 10/32\n",
      "51/51 [==============================] - 0s 7ms/step - loss: 183.4627 - val_loss: 329.0789\n",
      "Epoch 11/32\n",
      "51/51 [==============================] - 0s 8ms/step - loss: 153.3148 - val_loss: 218.7982\n",
      "Epoch 12/32\n",
      "51/51 [==============================] - 0s 7ms/step - loss: 128.9175 - val_loss: 261.1465\n",
      "Epoch 13/32\n",
      "51/51 [==============================] - 0s 7ms/step - loss: 102.7532 - val_loss: 208.4502\n",
      "Epoch 14/32\n",
      "51/51 [==============================] - 0s 7ms/step - loss: 86.9024 - val_loss: 161.2971\n",
      "Epoch 15/32\n",
      "51/51 [==============================] - 0s 7ms/step - loss: 76.9253 - val_loss: 105.6359\n",
      "Epoch 16/32\n",
      "51/51 [==============================] - 0s 6ms/step - loss: 62.0305 - val_loss: 56.8672\n",
      "Epoch 17/32\n",
      "51/51 [==============================] - 0s 7ms/step - loss: 67.0744 - val_loss: 34.0647\n",
      "Epoch 18/32\n",
      "51/51 [==============================] - 0s 10ms/step - loss: 55.3438 - val_loss: 57.3337\n",
      "Epoch 19/32\n",
      "51/51 [==============================] - 0s 9ms/step - loss: 42.8234 - val_loss: 33.4665\n",
      "Epoch 20/32\n",
      "51/51 [==============================] - 1s 13ms/step - loss: 58.1127 - val_loss: 38.0651\n",
      "Epoch 21/32\n",
      "51/51 [==============================] - 0s 8ms/step - loss: 53.0505 - val_loss: 38.5836\n",
      "Epoch 22/32\n",
      "51/51 [==============================] - 0s 7ms/step - loss: 43.3471 - val_loss: 53.3653\n",
      "Epoch 23/32\n",
      "51/51 [==============================] - 0s 6ms/step - loss: 47.3686 - val_loss: 37.1644\n",
      "Epoch 24/32\n",
      "51/51 [==============================] - 0s 8ms/step - loss: 46.5453 - val_loss: 35.3254\n",
      "Epoch 25/32\n",
      "51/51 [==============================] - 0s 7ms/step - loss: 43.6152 - val_loss: 34.9609\n",
      "Epoch 26/32\n",
      "51/51 [==============================] - 0s 7ms/step - loss: 48.5696 - val_loss: 27.6202\n",
      "Epoch 27/32\n",
      "51/51 [==============================] - 0s 6ms/step - loss: 45.4650 - val_loss: 87.4861\n",
      "Epoch 28/32\n",
      "51/51 [==============================] - 0s 7ms/step - loss: 49.0503 - val_loss: 33.8207\n",
      "Epoch 29/32\n",
      "51/51 [==============================] - 0s 7ms/step - loss: 42.1779 - val_loss: 28.5048\n",
      "Epoch 30/32\n",
      "51/51 [==============================] - 1s 10ms/step - loss: 46.5738 - val_loss: 35.1967\n",
      "Epoch 31/32\n",
      "51/51 [==============================] - 0s 7ms/step - loss: 42.2881 - val_loss: 41.9598\n",
      "Epoch 32/32\n",
      "51/51 [==============================] - 0s 7ms/step - loss: 50.2454 - val_loss: 36.2653\n"
     ]
    },
    {
     "data": {
      "text/plain": [
       "<keras.callbacks.History at 0x14b00e50>"
      ]
     },
     "execution_count": 15,
     "metadata": {},
     "output_type": "execute_result"
    }
   ],
   "source": [
    "model.fit(X_train, y_train, \n",
    "         batch_size=8,\n",
    "         epochs=32, \n",
    "         verbose=1, \n",
    "         validation_data=(X_valid, y_valid),\n",
    "         callbacks=[modelcheckpoint]) # val loss below 50 is good, 40 great"
   ]
  },
  {
   "cell_type": "markdown",
   "id": "c5fbeb05",
   "metadata": {},
   "source": [
    "### Performing Inference"
   ]
  },
  {
   "cell_type": "code",
   "execution_count": 17,
   "id": "8c5ae744",
   "metadata": {},
   "outputs": [],
   "source": [
    "model.load_weights(output_path + '/weights.28.hdf5')"
   ]
  },
  {
   "cell_type": "code",
   "execution_count": 18,
   "id": "4f192def",
   "metadata": {},
   "outputs": [
    {
     "data": {
      "text/plain": [
       "array([  9.32909,   0.     ,  18.1    ,   0.     ,   0.713  ,   6.185  ,\n",
       "        98.7    ,   2.2616 ,  24.     , 666.     ,  20.2    , 396.9    ,\n",
       "        18.13   ])"
      ]
     },
     "execution_count": 18,
     "metadata": {},
     "output_type": "execute_result"
    }
   ],
   "source": [
    "X_valid[42]"
   ]
  },
  {
   "cell_type": "code",
   "execution_count": 19,
   "id": "cb8c0e07",
   "metadata": {},
   "outputs": [
    {
     "data": {
      "text/plain": [
       "14.1"
      ]
     },
     "execution_count": 19,
     "metadata": {},
     "output_type": "execute_result"
    }
   ],
   "source": [
    "y_valid[42]"
   ]
  },
  {
   "cell_type": "code",
   "execution_count": 20,
   "id": "3e96202d",
   "metadata": {},
   "outputs": [
    {
     "name": "stdout",
     "output_type": "stream",
     "text": [
      "1/1 [==============================] - 0s 389ms/step\n"
     ]
    },
    {
     "data": {
      "text/plain": [
       "array([[20.44919]], dtype=float32)"
      ]
     },
     "execution_count": 20,
     "metadata": {},
     "output_type": "execute_result"
    }
   ],
   "source": [
    "model.predict(np.reshape(X_valid[42], [1, 13]))"
   ]
  },
  {
   "cell_type": "code",
   "execution_count": null,
   "id": "2ad5538e",
   "metadata": {},
   "outputs": [],
   "source": []
  }
 ],
 "metadata": {
  "kernelspec": {
   "display_name": "Python 3",
   "language": "python",
   "name": "python3"
  },
  "language_info": {
   "codemirror_mode": {
    "name": "ipython",
    "version": 3
   },
   "file_extension": ".py",
   "mimetype": "text/x-python",
   "name": "python",
   "nbconvert_exporter": "python",
   "pygments_lexer": "ipython3",
   "version": "3.8.8"
  }
 },
 "nbformat": 4,
 "nbformat_minor": 5
}
