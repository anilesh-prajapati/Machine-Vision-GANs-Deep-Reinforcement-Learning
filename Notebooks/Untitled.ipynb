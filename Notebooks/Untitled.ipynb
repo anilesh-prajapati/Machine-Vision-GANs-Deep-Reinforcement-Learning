{
 "cells": [
  {
   "cell_type": "markdown",
   "id": "4e186d13",
   "metadata": {},
   "source": [
    "# The Sigmoid Activation Function"
   ]
  },
  {
   "cell_type": "markdown",
   "id": "4281138f",
   "metadata": {},
   "source": [
    "### For Lesson 2.2"
   ]
  },
  {
   "cell_type": "code",
   "execution_count": 1,
   "id": "d6665bbb",
   "metadata": {},
   "outputs": [],
   "source": [
    "from math import e"
   ]
  },
  {
   "cell_type": "code",
   "execution_count": 2,
   "id": "28614f9d",
   "metadata": {},
   "outputs": [],
   "source": [
    "def sigmoid(z):\n",
    "    return 1/(1+e**-z)"
   ]
  },
  {
   "cell_type": "code",
   "execution_count": 3,
   "id": "5dc2b6fb",
   "metadata": {},
   "outputs": [
    {
     "data": {
      "text/plain": [
       "0.5000024999999999"
      ]
     },
     "execution_count": 3,
     "metadata": {},
     "output_type": "execute_result"
    }
   ],
   "source": [
    "sigmoid(0.00001)"
   ]
  },
  {
   "cell_type": "code",
   "execution_count": 4,
   "id": "a776d06c",
   "metadata": {},
   "outputs": [
    {
     "data": {
      "text/plain": [
       "1.0"
      ]
     },
     "execution_count": 4,
     "metadata": {},
     "output_type": "execute_result"
    }
   ],
   "source": [
    "sigmoid(10000)"
   ]
  },
  {
   "cell_type": "code",
   "execution_count": 5,
   "id": "421e616c",
   "metadata": {},
   "outputs": [
    {
     "data": {
      "text/plain": [
       "1.0"
      ]
     },
     "execution_count": 5,
     "metadata": {},
     "output_type": "execute_result"
    }
   ],
   "source": [
    "sigmoid(5999)"
   ]
  },
  {
   "cell_type": "code",
   "execution_count": 6,
   "id": "86ef9718",
   "metadata": {},
   "outputs": [
    {
     "data": {
      "text/plain": [
       "0.2689414213699951"
      ]
     },
     "execution_count": 6,
     "metadata": {},
     "output_type": "execute_result"
    }
   ],
   "source": [
    "sigmoid(-1)"
   ]
  },
  {
   "cell_type": "code",
   "execution_count": 7,
   "id": "caf3d97e",
   "metadata": {},
   "outputs": [
    {
     "data": {
      "text/plain": [
       "4.539786870243442e-05"
      ]
     },
     "execution_count": 7,
     "metadata": {},
     "output_type": "execute_result"
    }
   ],
   "source": [
    "sigmoid(-10)"
   ]
  },
  {
   "cell_type": "code",
   "execution_count": 8,
   "id": "f703cd86",
   "metadata": {},
   "outputs": [
    {
     "data": {
      "text/plain": [
       "0.11920292202211757"
      ]
     },
     "execution_count": 8,
     "metadata": {},
     "output_type": "execute_result"
    }
   ],
   "source": [
    "sigmoid(-2.0)"
   ]
  },
  {
   "cell_type": "code",
   "execution_count": null,
   "id": "ebfd455f",
   "metadata": {},
   "outputs": [],
   "source": []
  }
 ],
 "metadata": {
  "kernelspec": {
   "display_name": "Python 3",
   "language": "python",
   "name": "python3"
  },
  "language_info": {
   "codemirror_mode": {
    "name": "ipython",
    "version": 3
   },
   "file_extension": ".py",
   "mimetype": "text/x-python",
   "name": "python",
   "nbconvert_exporter": "python",
   "pygments_lexer": "ipython3",
   "version": "3.8.8"
  }
 },
 "nbformat": 4,
 "nbformat_minor": 5
}
