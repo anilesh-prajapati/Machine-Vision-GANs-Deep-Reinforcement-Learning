{
 "cells": [
  {
   "cell_type": "markdown",
   "id": "679307f9",
   "metadata": {},
   "source": [
    "# Weight Initialization"
   ]
  },
  {
   "cell_type": "markdown",
   "id": "d7f7b1e1",
   "metadata": {},
   "source": [
    " In this notebook, we experiment with weight initialization approaches to examine their impact on layer outputs."
   ]
  },
  {
   "cell_type": "markdown",
   "id": "2e699b68",
   "metadata": {},
   "source": [
    "### Load Dependencies"
   ]
  },
  {
   "cell_type": "code",
   "execution_count": 1,
   "id": "f368800e",
   "metadata": {},
   "outputs": [],
   "source": [
    "import numpy as np\n",
    "import matplotlib.pyplot as plt\n",
    "\n",
    "from tensorflow.keras import Sequential\n",
    "from tensorflow.keras.layers import Dense, Activation\n",
    "from tensorflow.keras.initializers import Zeros, RandomNormal , glorot_normal, glorot_uniform"
   ]
  },
  {
   "cell_type": "markdown",
   "id": "117bf65a",
   "metadata": {},
   "source": [
    "### Set Number of Neurons"
   ]
  },
  {
   "cell_type": "code",
   "execution_count": 2,
   "id": "5edeae66",
   "metadata": {},
   "outputs": [],
   "source": [
    "n_input = 784\n",
    "n_dense = 256"
   ]
  },
  {
   "cell_type": "markdown",
   "id": "cf221214",
   "metadata": {},
   "source": [
    "### Select A Bias Initializer"
   ]
  },
  {
   "cell_type": "code",
   "execution_count": 3,
   "id": "9a525e21",
   "metadata": {},
   "outputs": [],
   "source": [
    "b_init = Zeros()"
   ]
  },
  {
   "cell_type": "markdown",
   "id": "6ff4d648",
   "metadata": {},
   "source": [
    "### Select A Weight Initializer"
   ]
  },
  {
   "cell_type": "code",
   "execution_count": 4,
   "id": "82b4c498",
   "metadata": {},
   "outputs": [],
   "source": [
    "# w_init = RandomNormal(stddev=1.0)\n",
    "# w_init = glorot_normal()\n",
    "w_init = glorot_uniform()"
   ]
  },
  {
   "cell_type": "markdown",
   "id": "a4cec242",
   "metadata": {},
   "source": [
    "### Design Neural Network Architecture"
   ]
  },
  {
   "cell_type": "code",
   "execution_count": 5,
   "id": "d36e35d5",
   "metadata": {},
   "outputs": [],
   "source": [
    "model = Sequential()\n",
    "model.add(Dense(n_dense,\n",
    "               input_dim=n_input,\n",
    "               kernel_initializer=w_init, \n",
    "               bias_initializer=b_init))\n",
    "model.add(Activation('sigmoid'))\n",
    "# model.add(Activation('tanh'))\n",
    "# model.add(Activation('relu'))"
   ]
  },
  {
   "cell_type": "markdown",
   "id": "94521f9a",
   "metadata": {},
   "source": [
    "### Generate Random x Values"
   ]
  },
  {
   "cell_type": "code",
   "execution_count": 6,
   "id": "75bbfc2d",
   "metadata": {},
   "outputs": [],
   "source": [
    "x = np.random.random((1, n_input))"
   ]
  },
  {
   "cell_type": "markdown",
   "id": "b330f01b",
   "metadata": {},
   "source": [
    "### Forward Propagate Through The Network"
   ]
  },
  {
   "cell_type": "code",
   "execution_count": 7,
   "id": "f3e10611",
   "metadata": {
    "scrolled": true
   },
   "outputs": [
    {
     "name": "stdout",
     "output_type": "stream",
     "text": [
      "1/1 [==============================] - 0s 153ms/step\n"
     ]
    }
   ],
   "source": [
    "a = model.predict(x)"
   ]
  },
  {
   "cell_type": "code",
   "execution_count": 8,
   "id": "2fc522e8",
   "metadata": {
    "scrolled": true
   },
   "outputs": [
    {
     "data": {
      "text/plain": [
       "array([[0.40545604, 0.28272998, 0.37834758, 0.6117551 , 0.40711367,\n",
       "        0.55946547, 0.38999337, 0.4340453 , 0.5900861 , 0.46752298,\n",
       "        0.5899709 , 0.46417424, 0.5663769 , 0.508754  , 0.519771  ,\n",
       "        0.32746723, 0.5809367 , 0.47876427, 0.79558617, 0.44060102,\n",
       "        0.7704858 , 0.40632477, 0.62483007, 0.47279698, 0.43349117,\n",
       "        0.28026626, 0.54681677, 0.673151  , 0.2985795 , 0.32132998,\n",
       "        0.738572  , 0.5823033 , 0.5910674 , 0.50213635, 0.6509605 ,\n",
       "        0.4271801 , 0.3830108 , 0.65278554, 0.6242041 , 0.81519336,\n",
       "        0.2854464 , 0.4564583 , 0.5684642 , 0.63341427, 0.6333176 ,\n",
       "        0.71407753, 0.568629  , 0.5517923 , 0.66134876, 0.89059186,\n",
       "        0.70213103, 0.64067173, 0.66150016, 0.5196586 , 0.6477575 ,\n",
       "        0.37792808, 0.3424321 , 0.14470771, 0.35217208, 0.5469613 ,\n",
       "        0.50258386, 0.7886871 , 0.23966962, 0.50073254, 0.06689444,\n",
       "        0.3996484 , 0.7955689 , 0.6241939 , 0.28043678, 0.3866976 ,\n",
       "        0.6975868 , 0.62580055, 0.56321985, 0.5657783 , 0.41795057,\n",
       "        0.27783912, 0.6626209 , 0.3300182 , 0.5451335 , 0.5504415 ,\n",
       "        0.46785018, 0.5038501 , 0.41711146, 0.34601647, 0.41350123,\n",
       "        0.49058938, 0.5485395 , 0.33940396, 0.3837891 , 0.3673208 ,\n",
       "        0.4314685 , 0.5704138 , 0.38845986, 0.28046146, 0.60136884,\n",
       "        0.18954833, 0.24735534, 0.4327177 , 0.47047457, 0.24000534,\n",
       "        0.33240384, 0.6227755 , 0.5967637 , 0.37602776, 0.5412004 ,\n",
       "        0.76399946, 0.5756895 , 0.3974688 , 0.5325211 , 0.27477515,\n",
       "        0.56568706, 0.5515159 , 0.72955525, 0.21670793, 0.35613632,\n",
       "        0.8321143 , 0.5180462 , 0.55817425, 0.3807849 , 0.47837037,\n",
       "        0.72986335, 0.66760904, 0.5785208 , 0.5331157 , 0.33107787,\n",
       "        0.23317495, 0.6028779 , 0.44394732, 0.57704103, 0.645822  ,\n",
       "        0.6240541 , 0.41559005, 0.6050673 , 0.5699393 , 0.58320767,\n",
       "        0.50356203, 0.2337347 , 0.47880125, 0.27341953, 0.45163238,\n",
       "        0.7512846 , 0.604853  , 0.7968115 , 0.72279596, 0.44593418,\n",
       "        0.608973  , 0.5664059 , 0.59876925, 0.6723834 , 0.55572444,\n",
       "        0.42621726, 0.6381319 , 0.4328038 , 0.35338044, 0.4524116 ,\n",
       "        0.5068667 , 0.5652899 , 0.34967652, 0.6422576 , 0.512878  ,\n",
       "        0.3873116 , 0.37371927, 0.61016154, 0.47887856, 0.10805802,\n",
       "        0.69376457, 0.6130964 , 0.34305853, 0.18562981, 0.6313215 ,\n",
       "        0.634579  , 0.62774336, 0.31362006, 0.49546364, 0.5778695 ,\n",
       "        0.5319098 , 0.49926808, 0.46421885, 0.18324377, 0.25696543,\n",
       "        0.7131666 , 0.59328306, 0.44635144, 0.2845806 , 0.52998483,\n",
       "        0.526707  , 0.52665615, 0.55745435, 0.21599253, 0.32501948,\n",
       "        0.5665857 , 0.2775562 , 0.53111625, 0.49633524, 0.1923372 ,\n",
       "        0.2802018 , 0.2545616 , 0.538293  , 0.6372193 , 0.58919716,\n",
       "        0.8019142 , 0.42686075, 0.71548176, 0.49029353, 0.45868853,\n",
       "        0.5734571 , 0.2874107 , 0.59223664, 0.3821631 , 0.6858788 ,\n",
       "        0.39030713, 0.6892457 , 0.4885168 , 0.46091142, 0.4007796 ,\n",
       "        0.51998943, 0.48665357, 0.51110804, 0.6097719 , 0.26395136,\n",
       "        0.43695316, 0.5563011 , 0.26470822, 0.6836358 , 0.19109294,\n",
       "        0.3548246 , 0.7688119 , 0.3794347 , 0.62458384, 0.8552007 ,\n",
       "        0.2667218 , 0.53423035, 0.299713  , 0.2640088 , 0.40308344,\n",
       "        0.46590453, 0.5113484 , 0.34319493, 0.5828739 , 0.87864584,\n",
       "        0.7419938 , 0.28622532, 0.21138306, 0.4113866 , 0.7225858 ,\n",
       "        0.42952135, 0.48596793, 0.33876103, 0.60347414, 0.30937925,\n",
       "        0.6084368 , 0.6294604 , 0.432415  , 0.35714948, 0.5777483 ,\n",
       "        0.45743573]], dtype=float32)"
      ]
     },
     "execution_count": 8,
     "metadata": {},
     "output_type": "execute_result"
    }
   ],
   "source": [
    "a"
   ]
  },
  {
   "cell_type": "code",
   "execution_count": 9,
   "id": "73fecaa4",
   "metadata": {},
   "outputs": [
    {
     "data": {
      "image/png": "[encoded data removed]",
      "text/plain": [
       "<Figure size 432x288 with 1 Axes>"
      ]
     },
     "metadata": {
      "needs_background": "light"
     },
     "output_type": "display_data"
    }
   ],
   "source": [
    "_=plt.hist(np.transpose(a))"
   ]
  },
  {
   "cell_type": "code",
   "execution_count": null,
   "id": "1990c971",
   "metadata": {},
   "outputs": [],
   "source": []
  }
 ],
 "metadata": {
  "kernelspec": {
   "display_name": "Python 3",
   "language": "python",
   "name": "python3"
  },
  "language_info": {
   "codemirror_mode": {
    "name": "ipython",
    "version": 3
   },
   "file_extension": ".py",
   "mimetype": "text/x-python",
   "name": "python",
   "nbconvert_exporter": "python",
   "pygments_lexer": "ipython3",
   "version": "3.8.8"
  }
 },
 "nbformat": 4,
 "nbformat_minor": 5
}
