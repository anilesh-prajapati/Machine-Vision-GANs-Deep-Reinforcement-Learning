{
 "cells": [
  {
   "cell_type": "markdown",
   "id": "607a7ae6",
   "metadata": {},
   "source": [
    "# Deep Neural Network In PyTorch"
   ]
  },
  {
   "cell_type": "markdown",
   "id": "fdbcf241",
   "metadata": {},
   "source": [
    "## Load Dependencies"
   ]
  },
  {
   "cell_type": "code",
   "execution_count": 1,
   "id": "3c489fcc",
   "metadata": {},
   "outputs": [],
   "source": [
    "import torch\n",
    "import torch.nn as nn\n",
    "\n",
    "from torchvision.datasets import MNIST\n",
    "from torchvision import transforms\n",
    "\n",
    "from torchsummary import summary"
   ]
  },
  {
   "cell_type": "markdown",
   "id": "15781a43",
   "metadata": {},
   "source": [
    "## Load Data"
   ]
  },
  {
   "cell_type": "code",
   "execution_count": 22,
   "id": "9ae54344",
   "metadata": {},
   "outputs": [],
   "source": [
    "train = MNIST('data', train=True, transform= transforms.ToTensor())\n",
    "test= MNIST('data', train = False, transform= transforms.ToTensor())"
   ]
  },
  {
   "cell_type": "markdown",
   "id": "5bdb727c",
   "metadata": {},
   "source": [
    "## Batch Data"
   ]
  },
  {
   "cell_type": "code",
   "execution_count": 23,
   "id": "5f573db9",
   "metadata": {},
   "outputs": [],
   "source": [
    "train_loader = torch.utils.data.DataLoader(train, batch_size=128)\n",
    "test_loader  = torch.utils.data.DataLoader(test, batch_size=128)"
   ]
  },
  {
   "cell_type": "markdown",
   "id": "700f3710",
   "metadata": {},
   "source": [
    "## Design Neural Network Architecture"
   ]
  },
  {
   "cell_type": "code",
   "execution_count": 24,
   "id": "c93c57f4",
   "metadata": {},
   "outputs": [],
   "source": [
    "n_input = 28*28\n",
    "n_dense_1 = 64\n",
    "n_dense_2 = 64\n",
    "n_dense_3 = 64\n",
    "n_out = 10"
   ]
  },
  {
   "cell_type": "code",
   "execution_count": 25,
   "id": "437778cf",
   "metadata": {},
   "outputs": [],
   "source": [
    "model = nn.Sequential(\n",
    "    \n",
    "    # first hidden layer:\n",
    "    nn.Linear(n_input, n_dense_1),\n",
    "    nn.ReLU(),\n",
    "    \n",
    "    # second hidden layer:\n",
    "    nn.Linear(n_dense_1, n_dense_2),\n",
    "    nn.ReLU(),\n",
    "    \n",
    "    # third hidden layre:\n",
    "    nn.Linear(n_dense_2, n_dense_3),\n",
    "    nn.ReLU(),\n",
    "    nn.Dropout(),\n",
    "    \n",
    "    # Output layer:\n",
    "    nn.Linear(n_dense_3, n_out)\n",
    ")"
   ]
  },
  {
   "cell_type": "code",
   "execution_count": 26,
   "id": "7044ca47",
   "metadata": {},
   "outputs": [
    {
     "name": "stdout",
     "output_type": "stream",
     "text": [
      "----------------------------------------------------------------\n",
      "        Layer (type)               Output Shape         Param #\n",
      "================================================================\n",
      "            Linear-1                [-1, 1, 64]          50,240\n",
      "              ReLU-2                [-1, 1, 64]               0\n",
      "            Linear-3                [-1, 1, 64]           4,160\n",
      "              ReLU-4                [-1, 1, 64]               0\n",
      "            Linear-5                [-1, 1, 64]           4,160\n",
      "              ReLU-6                [-1, 1, 64]               0\n",
      "           Dropout-7                [-1, 1, 64]               0\n",
      "            Linear-8                [-1, 1, 10]             650\n",
      "================================================================\n",
      "Total params: 59,210\n",
      "Trainable params: 59,210\n",
      "Non-trainable params: 0\n",
      "----------------------------------------------------------------\n",
      "Input size (MB): 0.00\n",
      "Forward/backward pass size (MB): 0.00\n",
      "Params size (MB): 0.23\n",
      "Estimated Total Size (MB): 0.23\n",
      "----------------------------------------------------------------\n"
     ]
    }
   ],
   "source": [
    "summary(model, (1, n_input))"
   ]
  },
  {
   "cell_type": "markdown",
   "id": "d11c6f17",
   "metadata": {},
   "source": [
    "## Configure Training Hyperparameters"
   ]
  },
  {
   "cell_type": "code",
   "execution_count": 27,
   "id": "8a5c87e6",
   "metadata": {},
   "outputs": [],
   "source": [
    "cost_fxn = nn.CrossEntropyLoss() # includes softmax activation\n"
   ]
  },
  {
   "cell_type": "code",
   "execution_count": 28,
   "id": "95c83417",
   "metadata": {},
   "outputs": [],
   "source": [
    "optimizer = torch.optim.Adam(model.parameters())"
   ]
  },
  {
   "cell_type": "markdown",
   "id": "5a19254b",
   "metadata": {},
   "source": [
    "## Train"
   ]
  },
  {
   "cell_type": "code",
   "execution_count": 29,
   "id": "984a7ef7",
   "metadata": {},
   "outputs": [],
   "source": [
    "def accuracy_pct(pred_y, true_y):\n",
    "    _, prediction = torch.max(pred_y, 1) # returns maximum values , indices: fed tensor , dim to reduce\n",
    "    correct = (prediction == true_y).sum().item()\n",
    "    return (correct / true_y.shape[0]) * 100.0"
   ]
  },
  {
   "cell_type": "code",
   "execution_count": 30,
   "id": "428940f0",
   "metadata": {},
   "outputs": [
    {
     "data": {
      "text/plain": [
       "469"
      ]
     },
     "execution_count": 30,
     "metadata": {},
     "output_type": "execute_result"
    }
   ],
   "source": [
    "n_batches = len(train_loader)\n",
    "n_batches"
   ]
  },
  {
   "cell_type": "code",
   "execution_count": 31,
   "id": "3f94b93e",
   "metadata": {},
   "outputs": [
    {
     "name": "stdout",
     "output_type": "stream",
     "text": [
      "Training for 10 epochs. \n",
      "\n",
      "Step 100\n",
      "Step 200\n",
      "Step 300\n",
      "Step 400\n",
      "Epoch 1 / 10 complete. Cost : 0.687, Accuracy : 79.5% \n",
      "\n",
      "Step 100\n",
      "Step 200\n",
      "Step 300\n",
      "Step 400\n",
      "Epoch 2 / 10 complete. Cost : 0.288, Accuracy : 92.2% \n",
      "\n",
      "Step 100\n",
      "Step 200\n",
      "Step 300\n",
      "Step 400\n",
      "Epoch 3 / 10 complete. Cost : 0.211, Accuracy : 94.4% \n",
      "\n",
      "Step 100\n",
      "Step 200\n",
      "Step 300\n",
      "Step 400\n",
      "Epoch 4 / 10 complete. Cost : 0.168, Accuracy : 95.5% \n",
      "\n",
      "Step 100\n",
      "Step 200\n",
      "Step 300\n",
      "Step 400\n",
      "Epoch 5 / 10 complete. Cost : 0.141, Accuracy : 96.2% \n",
      "\n",
      "Step 100\n",
      "Step 200\n",
      "Step 300\n",
      "Step 400\n",
      "Epoch 6 / 10 complete. Cost : 0.122, Accuracy : 96.7% \n",
      "\n",
      "Step 100\n",
      "Step 200\n",
      "Step 300\n",
      "Step 400\n",
      "Epoch 7 / 10 complete. Cost : 0.105, Accuracy : 97.1% \n",
      "\n",
      "Step 100\n",
      "Step 200\n",
      "Step 300\n",
      "Step 400\n",
      "Epoch 8 / 10 complete. Cost : 0.095, Accuracy : 97.4% \n",
      "\n",
      "Step 100\n",
      "Step 200\n",
      "Step 300\n",
      "Step 400\n",
      "Epoch 9 / 10 complete. Cost : 0.084, Accuracy : 97.7% \n",
      "\n",
      "Step 100\n",
      "Step 200\n",
      "Step 300\n",
      "Step 400\n",
      "Epoch 10 / 10 complete. Cost : 0.077, Accuracy : 97.8% \n",
      "\n",
      "Training Complete.\n"
     ]
    }
   ],
   "source": [
    "n_epochs = 10\n",
    "\n",
    "print('Training for {} epochs. \\n'.format(n_epochs))\n",
    "\n",
    "for epoch in range(n_epochs):\n",
    "    \n",
    "    \n",
    "    avg_cost = 0.0\n",
    "    avg_accuracy = 0.0\n",
    "    \n",
    "    for i, (X, y) in enumerate(train_loader): # enumerate() provides count of iterations  \n",
    "        \n",
    "        # forward propagation:\n",
    "        X_flat = X.view(X.shape[0], -1)\n",
    "        y_hat = model(X_flat)\n",
    "        cost = cost_fxn(y_hat, y)\n",
    "        avg_cost += cost / n_batches\n",
    "        \n",
    "        # backprop accuracy metric:\n",
    "        optimizer.zero_grad() # set gradients to zero ; .backward() accumulates them in buffers\n",
    "        cost.backward()\n",
    "        optimizer.step()\n",
    "        \n",
    "        # calculate accuracy metic:\n",
    "        accuracy = accuracy_pct(y_hat, y)\n",
    "        avg_accuracy += accuracy / n_batches\n",
    "        \n",
    "        if (i + 1)% 100 == 0:\n",
    "            print('Step {}'.format(i + 1))\n",
    "            \n",
    "    print('Epoch {} / {} complete. Cost : {:.3f}, Accuracy : {:.1f}% \\n'\n",
    "         .format(epoch + 1, n_epochs, avg_cost , avg_accuracy ))\n",
    "\n",
    "print('Training Complete.')"
   ]
  },
  {
   "cell_type": "code",
   "execution_count": 34,
   "id": "6cc6e2b2",
   "metadata": {},
   "outputs": [
    {
     "data": {
      "text/plain": [
       "79"
      ]
     },
     "execution_count": 34,
     "metadata": {},
     "output_type": "execute_result"
    }
   ],
   "source": [
    "n_test_batches = len(test_loader)\n",
    "n_test_batches"
   ]
  },
  {
   "cell_type": "code",
   "execution_count": 39,
   "id": "bbe6ce6a",
   "metadata": {},
   "outputs": [
    {
     "name": "stdout",
     "output_type": "stream",
     "text": [
      "Test cost : 0.105, Test accuracy : 97.3\n"
     ]
    }
   ],
   "source": [
    "model.eval() # disable drapout and batch norm\n",
    "\n",
    "with torch.no_grad(): # disables outograd , reducing memory consumption\n",
    "    \n",
    "    avg_test_cost = 0.0\n",
    "    avg_test_acc = 0.0\n",
    "    \n",
    "    for X , y in test_loader:\n",
    "        \n",
    "        # make predictions:\n",
    "        X_flat = X.view(X.shape[0] , -1)\n",
    "        y_hat = model(X_flat)\n",
    "        \n",
    "        # calculate cost:\n",
    "        cost = cost_fxn(y_hat, y)\n",
    "        avg_test_cost += cost / n_test_batches\n",
    "        \n",
    "        # calculate accuracy:\n",
    "        test_accuracy = accuracy_pct(y_hat, y)\n",
    "        avg_test_acc += test_accuracy / n_test_batches\n",
    "        \n",
    "print('Test cost : {:.3f}, Test accuracy : {:.1f}'.format(avg_test_cost, avg_test_acc))"
   ]
  },
  {
   "cell_type": "code",
   "execution_count": null,
   "id": "242f461f",
   "metadata": {},
   "outputs": [],
   "source": []
  }
 ],
 "metadata": {
  "kernelspec": {
   "display_name": "Python 3",
   "language": "python",
   "name": "python3"
  },
  "language_info": {
   "codemirror_mode": {
    "name": "ipython",
    "version": 3
   },
   "file_extension": ".py",
   "mimetype": "text/x-python",
   "name": "python",
   "nbconvert_exporter": "python",
   "pygments_lexer": "ipython3",
   "version": "3.8.8"
  }
 },
 "nbformat": 4,
 "nbformat_minor": 5
}
