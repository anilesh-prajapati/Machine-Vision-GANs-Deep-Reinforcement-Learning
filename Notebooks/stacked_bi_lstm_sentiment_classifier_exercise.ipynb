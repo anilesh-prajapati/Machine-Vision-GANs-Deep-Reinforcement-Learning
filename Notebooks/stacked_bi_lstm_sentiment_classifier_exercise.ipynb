{
  "nbformat": 4,
  "nbformat_minor": 0,
  "metadata": {
    "colab": {
      "provenance": []
    },
    "kernelspec": {
      "name": "python3",
      "display_name": "Python 3"
    },
    "language_info": {
      "name": "python"
    },
    "accelerator": "GPU",
    "gpuClass": "standard"
  },
  "cells": [
    {
      "cell_type": "markdown",
      "source": [
        "\n",
        "# Stacked Bidirectional LSTM Sentiment Classifie\n",
        "\n"
      ],
      "metadata": {
        "id": "IcsuU_UhS0av"
      }
    },
    {
      "cell_type": "markdown",
      "source": [
        "In this notebook, we stack LSTM layers to classify IMDB movie reviews by their sentiment"
      ],
      "metadata": {
        "id": "EJUGXp15S52e"
      }
    },
    {
      "cell_type": "markdown",
      "source": [
        "### Load dependencies"
      ],
      "metadata": {
        "id": "9vSy2bm-S79b"
      }
    },
    {
      "cell_type": "code",
      "execution_count": 1,
      "metadata": {
        "id": "PrGcWpkASsn6"
      },
      "outputs": [],
      "source": [
        "import tensorflow\n",
        "from tensorflow.keras.datasets import imdb\n",
        "from tensorflow.keras.preprocessing.sequence import pad_sequences\n",
        "from tensorflow.keras.models import Sequential\n",
        "from tensorflow.keras.layers import Dense, Dropout, Embedding, SpatialDropout1D, LSTM\n",
        "from tensorflow.keras.layers import Bidirectional \n",
        "from tensorflow.keras.callbacks import ModelCheckpoint\n",
        "import os\n",
        "from sklearn.metrics import roc_auc_score \n",
        "import matplotlib.pyplot as plt "
      ]
    },
    {
      "cell_type": "markdown",
      "source": [
        "### Set hyperparameters"
      ],
      "metadata": {
        "id": "lQHTyo06SyRs"
      }
    },
    {
      "cell_type": "code",
      "source": [
        "# output directory name:\n",
        "output_dir = 'model_output/stackedLSTM'\n",
        "\n",
        "# training:\n",
        "epochs = 20\n",
        "batch_size = 128\n",
        "\n",
        "# vector-space embedding: \n",
        "n_dim = 64 \n",
        "n_unique_words = 10000 \n",
        "max_review_length = 200 \n",
        "pad_type = trunc_type = 'pre'\n",
        "drop_embed = 0.2 \n",
        "\n",
        "# LSTM layer architecture:\n",
        "n_lstm_1 = 64 # lower\n",
        "n_lstm_2 = 64 # new!\n",
        "drop_lstm = 0.2"
      ],
      "metadata": {
        "id": "NWUKo_r2TIjO"
      },
      "execution_count": 2,
      "outputs": []
    },
    {
      "cell_type": "markdown",
      "source": [
        "### Load data"
      ],
      "metadata": {
        "id": "wgessYjLTNlT"
      }
    },
    {
      "cell_type": "code",
      "source": [
        "(x_train, y_train), (x_valid, y_valid) = imdb.load_data(num_words=n_unique_words) # removed n_words_to_skip"
      ],
      "metadata": {
        "colab": {
          "base_uri": "https://localhost:8080/"
        },
        "id": "kDyxktlRTOj-",
        "outputId": "e77828b1-ac63-449d-d9c5-9960accfa2d1"
      },
      "execution_count": 3,
      "outputs": [
        {
          "output_type": "stream",
          "name": "stdout",
          "text": [
            "Downloading data from https://storage.googleapis.com/tensorflow/tf-keras-datasets/imdb.npz\n",
            "17464789/17464789 [==============================] - 0s 0us/step\n"
          ]
        }
      ]
    },
    {
      "cell_type": "markdown",
      "source": [
        "### Preprocess data"
      ],
      "metadata": {
        "id": "6anwHZirTQGr"
      }
    },
    {
      "cell_type": "code",
      "source": [
        "x_train = pad_sequences(x_train, maxlen=max_review_length, padding=pad_type, truncating=trunc_type, value=0)\n",
        "x_valid = pad_sequences(x_valid, maxlen=max_review_length, padding=pad_type, truncating=trunc_type, value=0)"
      ],
      "metadata": {
        "id": "51exg1AyTTmY"
      },
      "execution_count": 4,
      "outputs": []
    },
    {
      "cell_type": "markdown",
      "source": [
        "### Design neural network architecture"
      ],
      "metadata": {
        "id": "LYxgo_5ETV5M"
      }
    },
    {
      "cell_type": "code",
      "source": [
        "model = Sequential()\n",
        "\n",
        "model.add(Embedding(n_unique_words, n_dim, input_length=max_review_length)) \n",
        "model.add(SpatialDropout1D(drop_embed))\n",
        "\n",
        "# first LSTM layer:\n",
        "model.add(Bidirectional(LSTM(n_lstm_1, dropout=drop_lstm, \n",
        "                             return_sequences=True)))\n",
        "\n",
        "# second LSTM layer: \n",
        "model.add(Bidirectional(LSTM(n_lstm_2, dropout=drop_lstm)))\n",
        "\n",
        "# Output layer:\n",
        "model.add(Dense(1, activation='sigmoid'))"
      ],
      "metadata": {
        "id": "HGptngzpTYZ9"
      },
      "execution_count": 5,
      "outputs": []
    },
    {
      "cell_type": "code",
      "source": [
        "model.summary()"
      ],
      "metadata": {
        "colab": {
          "base_uri": "https://localhost:8080/"
        },
        "id": "eJ9HdIQxTr2A",
        "outputId": "21b3b1a3-5264-4cd9-9aef-d27f5ed1d584"
      },
      "execution_count": 6,
      "outputs": [
        {
          "output_type": "stream",
          "name": "stdout",
          "text": [
            "Model: \"sequential\"\n",
            "_________________________________________________________________\n",
            " Layer (type)                Output Shape              Param #   \n",
            "=================================================================\n",
            " embedding (Embedding)       (None, 200, 64)           640000    \n",
            "                                                                 \n",
            " spatial_dropout1d (SpatialD  (None, 200, 64)          0         \n",
            " ropout1D)                                                       \n",
            "                                                                 \n",
            " bidirectional (Bidirectiona  (None, 200, 128)         66048     \n",
            " l)                                                              \n",
            "                                                                 \n",
            " bidirectional_1 (Bidirectio  (None, 128)              98816     \n",
            " nal)                                                            \n",
            "                                                                 \n",
            " dense (Dense)               (None, 1)                 129       \n",
            "                                                                 \n",
            "=================================================================\n",
            "Total params: 804,993\n",
            "Trainable params: 804,993\n",
            "Non-trainable params: 0\n",
            "_________________________________________________________________\n"
          ]
        }
      ]
    },
    {
      "cell_type": "markdown",
      "source": [
        "### Configure model"
      ],
      "metadata": {
        "id": "7Ri68wvVTvZr"
      }
    },
    {
      "cell_type": "code",
      "source": [
        "model.compile(loss='binary_crossentropy', optimizer='nadam', metrics=['accuracy'])"
      ],
      "metadata": {
        "id": "70jy-a94Tzhm"
      },
      "execution_count": 7,
      "outputs": []
    },
    {
      "cell_type": "code",
      "source": [
        "modelcheckpoint = ModelCheckpoint(filepath=output_dir+\"/weights.{epoch:02d}.hdf5\")\n",
        "if not os.path.exists(output_dir):\n",
        "    os.makedirs(output_dir)"
      ],
      "metadata": {
        "id": "6YHNUqmFT1h4"
      },
      "execution_count": 8,
      "outputs": []
    },
    {
      "cell_type": "markdown",
      "source": [
        "### Train!"
      ],
      "metadata": {
        "id": "KgVDvQvDT6JY"
      }
    },
    {
      "cell_type": "code",
      "source": [
        "model.fit(x_train, y_train, batch_size=batch_size, epochs=epochs, verbose=1, validation_data=(x_valid, y_valid), callbacks=[modelcheckpoint])"
      ],
      "metadata": {
        "colab": {
          "base_uri": "https://localhost:8080/"
        },
        "id": "KwIFhGInT6_9",
        "outputId": "f81a1c10-bef7-450a-d6b5-a09d891211f0"
      },
      "execution_count": 9,
      "outputs": [
        {
          "output_type": "stream",
          "name": "stdout",
          "text": [
            "Epoch 1/20\n",
            "196/196 [==============================] - 34s 79ms/step - loss: 0.4642 - accuracy: 0.7718 - val_loss: 0.3565 - val_accuracy: 0.8498\n",
            "Epoch 2/20\n",
            "196/196 [==============================] - 14s 70ms/step - loss: 0.2790 - accuracy: 0.8871 - val_loss: 0.3351 - val_accuracy: 0.8576\n",
            "Epoch 3/20\n",
            "196/196 [==============================] - 18s 92ms/step - loss: 0.2214 - accuracy: 0.9154 - val_loss: 0.3720 - val_accuracy: 0.8658\n",
            "Epoch 4/20\n",
            "196/196 [==============================] - 15s 75ms/step - loss: 0.1751 - accuracy: 0.9347 - val_loss: 0.3375 - val_accuracy: 0.8688\n",
            "Epoch 5/20\n",
            "196/196 [==============================] - 15s 75ms/step - loss: 0.1465 - accuracy: 0.9469 - val_loss: 0.3875 - val_accuracy: 0.8672\n",
            "Epoch 6/20\n",
            "196/196 [==============================] - 14s 72ms/step - loss: 0.1182 - accuracy: 0.9574 - val_loss: 0.4283 - val_accuracy: 0.8565\n",
            "Epoch 7/20\n",
            "196/196 [==============================] - 14s 72ms/step - loss: 0.0987 - accuracy: 0.9666 - val_loss: 0.6490 - val_accuracy: 0.8324\n",
            "Epoch 8/20\n",
            "196/196 [==============================] - 15s 76ms/step - loss: 0.0853 - accuracy: 0.9705 - val_loss: 0.5156 - val_accuracy: 0.8609\n",
            "Epoch 9/20\n",
            "196/196 [==============================] - 15s 75ms/step - loss: 0.0913 - accuracy: 0.9683 - val_loss: 0.4775 - val_accuracy: 0.8609\n",
            "Epoch 10/20\n",
            "196/196 [==============================] - 14s 70ms/step - loss: 0.0685 - accuracy: 0.9773 - val_loss: 0.5347 - val_accuracy: 0.8484\n",
            "Epoch 11/20\n",
            "196/196 [==============================] - 14s 71ms/step - loss: 0.0559 - accuracy: 0.9822 - val_loss: 0.5772 - val_accuracy: 0.8582\n",
            "Epoch 12/20\n",
            "196/196 [==============================] - 15s 76ms/step - loss: 0.0489 - accuracy: 0.9847 - val_loss: 0.5985 - val_accuracy: 0.8498\n",
            "Epoch 13/20\n",
            "196/196 [==============================] - 16s 80ms/step - loss: 0.0468 - accuracy: 0.9850 - val_loss: 0.5681 - val_accuracy: 0.8475\n",
            "Epoch 14/20\n",
            "196/196 [==============================] - 16s 83ms/step - loss: 0.0431 - accuracy: 0.9868 - val_loss: 0.6212 - val_accuracy: 0.8560\n",
            "Epoch 15/20\n",
            "196/196 [==============================] - 14s 72ms/step - loss: 0.0407 - accuracy: 0.9883 - val_loss: 0.6080 - val_accuracy: 0.8526\n",
            "Epoch 16/20\n",
            "196/196 [==============================] - 15s 74ms/step - loss: 0.0389 - accuracy: 0.9888 - val_loss: 0.6191 - val_accuracy: 0.8549\n",
            "Epoch 17/20\n",
            "196/196 [==============================] - 14s 74ms/step - loss: 0.0350 - accuracy: 0.9901 - val_loss: 0.6239 - val_accuracy: 0.8552\n",
            "Epoch 18/20\n",
            "196/196 [==============================] - 14s 72ms/step - loss: 0.0367 - accuracy: 0.9894 - val_loss: 0.7383 - val_accuracy: 0.8478\n",
            "Epoch 19/20\n",
            "196/196 [==============================] - 14s 73ms/step - loss: 0.0348 - accuracy: 0.9896 - val_loss: 0.6244 - val_accuracy: 0.8553\n",
            "Epoch 20/20\n",
            "196/196 [==============================] - 14s 73ms/step - loss: 0.0317 - accuracy: 0.9910 - val_loss: 0.6149 - val_accuracy: 0.8539\n"
          ]
        },
        {
          "output_type": "execute_result",
          "data": {
            "text/plain": [
              "<keras.callbacks.History at 0x7f316ca22bd0>"
            ]
          },
          "metadata": {},
          "execution_count": 9
        }
      ]
    },
    {
      "cell_type": "markdown",
      "source": [
        "### Evaluate"
      ],
      "metadata": {
        "id": "6dnSEjtfUEci"
      }
    },
    {
      "cell_type": "code",
      "source": [
        "model.load_weights(output_dir+\"/weights.02.hdf5\") "
      ],
      "metadata": {
        "id": "gGtGUJEoUFYV"
      },
      "execution_count": 10,
      "outputs": []
    },
    {
      "cell_type": "code",
      "source": [
        "y_hat = model.predict(x_valid)"
      ],
      "metadata": {
        "colab": {
          "base_uri": "https://localhost:8080/"
        },
        "id": "-EwfRQTlUG8y",
        "outputId": "5178dcb2-4bb1-4604-8d89-1dac80c86e35"
      },
      "execution_count": 12,
      "outputs": [
        {
          "output_type": "stream",
          "name": "stdout",
          "text": [
            "782/782 [==============================] - 13s 15ms/step\n"
          ]
        }
      ]
    },
    {
      "cell_type": "code",
      "source": [
        "plt.hist(y_hat)\n",
        "_ = plt.axvline(x=0.5, color='orange')"
      ],
      "metadata": {
        "colab": {
          "base_uri": "https://localhost:8080/",
          "height": 265
        },
        "id": "-XBKsf0jUIKz",
        "outputId": "831d4f29-a993-4349-85c9-716445181805"
      },
      "execution_count": 13,
      "outputs": [
        {
          "output_type": "display_data",
          "data": {
            "text/plain": [
              "<Figure size 432x288 with 1 Axes>"
            ],
            "image/png": "[encoded data removed]"
          },
          "metadata": {
            "needs_background": "light"
          }
        }
      ]
    },
    {
      "cell_type": "code",
      "source": [
        "\"{:0.2f}\".format(roc_auc_score(y_valid, y_hat)*100.0)"
      ],
      "metadata": {
        "colab": {
          "base_uri": "https://localhost:8080/",
          "height": 35
        },
        "id": "w3aoC3CAUJUz",
        "outputId": "13b4e5ff-095b-49c6-abf0-d3ae9952e3f7"
      },
      "execution_count": 14,
      "outputs": [
        {
          "output_type": "execute_result",
          "data": {
            "text/plain": [
              "'94.71'"
            ],
            "application/vnd.google.colaboratory.intrinsic+json": {
              "type": "string"
            }
          },
          "metadata": {},
          "execution_count": 14
        }
      ]
    }
  ]
}