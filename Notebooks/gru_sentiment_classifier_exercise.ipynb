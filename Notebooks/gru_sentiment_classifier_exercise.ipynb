{
  "nbformat": 4,
  "nbformat_minor": 0,
  "metadata": {
    "colab": {
      "provenance": []
    },
    "kernelspec": {
      "name": "python3",
      "display_name": "Python 3"
    },
    "language_info": {
      "name": "python"
    },
    "accelerator": "GPU",
    "gpuClass": "standard"
  },
  "cells": [
    {
      "cell_type": "markdown",
      "source": [
        "# GRU Sentiment Classifier"
      ],
      "metadata": {
        "id": "b1o9TakjwU69"
      }
    },
    {
      "cell_type": "markdown",
      "source": [
        "In this notebook, we use a GRU to classify IMDB movie reviews by their sentiment."
      ],
      "metadata": {
        "id": "E4isrHawwZxg"
      }
    },
    {
      "cell_type": "markdown",
      "source": [
        "### Load dependencies"
      ],
      "metadata": {
        "id": "bTNQNOOSwcIL"
      }
    },
    {
      "cell_type": "code",
      "execution_count": 1,
      "metadata": {
        "id": "aBmC65mswKM3"
      },
      "outputs": [],
      "source": [
        "import tensorflow\n",
        "from tensorflow.keras.datasets import imdb\n",
        "from tensorflow.keras.preprocessing.sequence import pad_sequences\n",
        "from tensorflow.keras.models import Sequential\n",
        "from tensorflow.keras.layers import Dense, Dropout, Embedding, SpatialDropout1D\n",
        "from tensorflow.keras.layers import GRU # new! \n",
        "from tensorflow.keras.callbacks import ModelCheckpoint\n",
        "import os\n",
        "from sklearn.metrics import roc_auc_score \n",
        "import matplotlib.pyplot as plt "
      ]
    },
    {
      "cell_type": "markdown",
      "source": [
        "### Set hyperparameters"
      ],
      "metadata": {
        "id": "eeFqX7IIw1fo"
      }
    },
    {
      "cell_type": "code",
      "source": [
        "# output directory name:\n",
        "output_dir = 'model_output/gru'\n",
        "\n",
        "# training:\n",
        "epochs = 20\n",
        "batch_size = 128\n",
        "\n",
        "# vector-space embedding: \n",
        "n_dim = 64 \n",
        "n_unique_words = 10000 \n",
        "max_review_length = 100 # lowered due to vanishing gradient over time\n",
        "pad_type = trunc_type = 'pre'\n",
        "drop_embed = 0.2 \n",
        "\n",
        "# GRU layer architecture:\n",
        "n_gru = 256 \n",
        "drop_gru = 0.2\n",
        "\n",
        "# dense layer architecture: \n",
        "n_dense = 256\n",
        "dropout = 0.2"
      ],
      "metadata": {
        "id": "3k9RMEM7w2uy"
      },
      "execution_count": 2,
      "outputs": []
    },
    {
      "cell_type": "markdown",
      "source": [
        "### Load data"
      ],
      "metadata": {
        "id": "5fxo7gyrw_74"
      }
    },
    {
      "cell_type": "code",
      "source": [
        "(x_train, y_train), (x_valid, y_valid) = imdb.load_data(num_words=n_unique_words) # removed n_words_to_skip"
      ],
      "metadata": {
        "colab": {
          "base_uri": "https://localhost:8080/"
        },
        "id": "asrt5UQfxBJz",
        "outputId": "a33f67dd-1dff-42a5-e0ba-31aecdd54e82"
      },
      "execution_count": 3,
      "outputs": [
        {
          "output_type": "stream",
          "name": "stdout",
          "text": [
            "Downloading data from https://storage.googleapis.com/tensorflow/tf-keras-datasets/imdb.npz\n",
            "17464789/17464789 [==============================] - 2s 0us/step\n"
          ]
        }
      ]
    },
    {
      "cell_type": "markdown",
      "source": [
        "### Preprocess data"
      ],
      "metadata": {
        "id": "p_R8HuD_xGMu"
      }
    },
    {
      "cell_type": "code",
      "source": [
        "x_train = pad_sequences(x_train, maxlen=max_review_length, padding=pad_type, truncating=trunc_type, value=0)\n",
        "x_valid = pad_sequences(x_valid, maxlen=max_review_length, padding=pad_type, truncating=trunc_type, value=0)"
      ],
      "metadata": {
        "id": "iA-q2tiyxHUz"
      },
      "execution_count": 4,
      "outputs": []
    },
    {
      "cell_type": "markdown",
      "source": [
        "### Design neural network architecture"
      ],
      "metadata": {
        "id": "ru4_klAIxKxm"
      }
    },
    {
      "cell_type": "code",
      "source": [
        "model = Sequential()\n",
        "\n",
        "# first hidden layer:\n",
        "model.add(Embedding(n_unique_words, n_dim, input_length=max_review_length)) \n",
        "model.add(SpatialDropout1D(drop_embed))\n",
        "\n",
        "# Second hidden layer:\n",
        "model.add(GRU(n_gru, dropout=drop_gru))\n",
        "\n",
        "# Third hidden layer:\n",
        "model.add(Dense(n_dense, activation='relu')) # typically don't see top dense layer in NLP like in \n",
        "model.add(Dropout(dropout))\n",
        "\n",
        "# Output layer:\n",
        "model.add(Dense(1, activation='sigmoid'))"
      ],
      "metadata": {
        "id": "TTR37boHxL3Z"
      },
      "execution_count": 5,
      "outputs": []
    },
    {
      "cell_type": "code",
      "source": [
        "model.summary()"
      ],
      "metadata": {
        "colab": {
          "base_uri": "https://localhost:8080/"
        },
        "id": "iLBI7qlVxdTQ",
        "outputId": "8e2e0e7b-4553-4c5b-931b-a023de4563f8"
      },
      "execution_count": 6,
      "outputs": [
        {
          "output_type": "stream",
          "name": "stdout",
          "text": [
            "Model: \"sequential\"\n",
            "_________________________________________________________________\n",
            " Layer (type)                Output Shape              Param #   \n",
            "=================================================================\n",
            " embedding (Embedding)       (None, 100, 64)           640000    \n",
            "                                                                 \n",
            " spatial_dropout1d (SpatialD  (None, 100, 64)          0         \n",
            " ropout1D)                                                       \n",
            "                                                                 \n",
            " gru (GRU)                   (None, 256)               247296    \n",
            "                                                                 \n",
            " dense (Dense)               (None, 256)               65792     \n",
            "                                                                 \n",
            " dropout (Dropout)           (None, 256)               0         \n",
            "                                                                 \n",
            " dense_1 (Dense)             (None, 1)                 257       \n",
            "                                                                 \n",
            "=================================================================\n",
            "Total params: 953,345\n",
            "Trainable params: 953,345\n",
            "Non-trainable params: 0\n",
            "_________________________________________________________________\n"
          ]
        }
      ]
    },
    {
      "cell_type": "markdown",
      "source": [
        "### Configure model"
      ],
      "metadata": {
        "id": "zA8avlgcxl5g"
      }
    },
    {
      "cell_type": "code",
      "source": [
        "model.compile(loss='binary_crossentropy', optimizer='nadam', metrics=['accuracy'])"
      ],
      "metadata": {
        "id": "twy54d7wxffD"
      },
      "execution_count": 7,
      "outputs": []
    },
    {
      "cell_type": "code",
      "source": [
        "modelcheckpoint = ModelCheckpoint(filepath=output_dir+\"/weights.{epoch:02d}.hdf5\")\n",
        "if not os.path.exists(output_dir):\n",
        "    os.makedirs(output_dir)"
      ],
      "metadata": {
        "id": "IW0O_rWgxorb"
      },
      "execution_count": 8,
      "outputs": []
    },
    {
      "cell_type": "markdown",
      "source": [
        "### Train!"
      ],
      "metadata": {
        "id": "QyFRjCsExuOL"
      }
    },
    {
      "cell_type": "code",
      "source": [
        "model.fit(x_train, y_train, batch_size=batch_size, epochs=epochs, verbose=1, validation_data=(x_valid, y_valid), callbacks=[modelcheckpoint])"
      ],
      "metadata": {
        "colab": {
          "base_uri": "https://localhost:8080/"
        },
        "id": "nNSnskDGxqNz",
        "outputId": "df56925e-a2bb-4781-8366-178d4d2e94d1"
      },
      "execution_count": 9,
      "outputs": [
        {
          "output_type": "stream",
          "name": "stdout",
          "text": [
            "Epoch 1/20\n",
            "196/196 [==============================] - 12s 23ms/step - loss: 0.5929 - accuracy: 0.6680 - val_loss: 0.4938 - val_accuracy: 0.7625\n",
            "Epoch 2/20\n",
            "196/196 [==============================] - 4s 19ms/step - loss: 0.3460 - accuracy: 0.8497 - val_loss: 0.3636 - val_accuracy: 0.8472\n",
            "Epoch 3/20\n",
            "196/196 [==============================] - 4s 21ms/step - loss: 0.2660 - accuracy: 0.8914 - val_loss: 0.3428 - val_accuracy: 0.8509\n",
            "Epoch 4/20\n",
            "196/196 [==============================] - 4s 21ms/step - loss: 0.2217 - accuracy: 0.9132 - val_loss: 0.3842 - val_accuracy: 0.8355\n",
            "Epoch 5/20\n",
            "196/196 [==============================] - 4s 19ms/step - loss: 0.1792 - accuracy: 0.9326 - val_loss: 0.3663 - val_accuracy: 0.8487\n",
            "Epoch 6/20\n",
            "196/196 [==============================] - 4s 19ms/step - loss: 0.1480 - accuracy: 0.9446 - val_loss: 0.4104 - val_accuracy: 0.8442\n",
            "Epoch 7/20\n",
            "196/196 [==============================] - 4s 20ms/step - loss: 0.1193 - accuracy: 0.9574 - val_loss: 0.5254 - val_accuracy: 0.8363\n",
            "Epoch 8/20\n",
            "196/196 [==============================] - 4s 21ms/step - loss: 0.1006 - accuracy: 0.9634 - val_loss: 0.4918 - val_accuracy: 0.8454\n",
            "Epoch 9/20\n",
            "196/196 [==============================] - 4s 21ms/step - loss: 0.0761 - accuracy: 0.9731 - val_loss: 0.5491 - val_accuracy: 0.8400\n",
            "Epoch 10/20\n",
            "196/196 [==============================] - 4s 21ms/step - loss: 0.0663 - accuracy: 0.9767 - val_loss: 0.6428 - val_accuracy: 0.8409\n",
            "Epoch 11/20\n",
            "196/196 [==============================] - 4s 20ms/step - loss: 0.0562 - accuracy: 0.9799 - val_loss: 0.6827 - val_accuracy: 0.8391\n",
            "Epoch 12/20\n",
            "196/196 [==============================] - 4s 20ms/step - loss: 0.0492 - accuracy: 0.9828 - val_loss: 0.7282 - val_accuracy: 0.8297\n",
            "Epoch 13/20\n",
            "196/196 [==============================] - 4s 20ms/step - loss: 0.0406 - accuracy: 0.9859 - val_loss: 0.6947 - val_accuracy: 0.8379\n",
            "Epoch 14/20\n",
            "196/196 [==============================] - 4s 20ms/step - loss: 0.0354 - accuracy: 0.9871 - val_loss: 0.8058 - val_accuracy: 0.8366\n",
            "Epoch 15/20\n",
            "196/196 [==============================] - 4s 21ms/step - loss: 0.0319 - accuracy: 0.9885 - val_loss: 0.7808 - val_accuracy: 0.8269\n",
            "Epoch 16/20\n",
            "196/196 [==============================] - 4s 19ms/step - loss: 0.0296 - accuracy: 0.9899 - val_loss: 0.9099 - val_accuracy: 0.8259\n",
            "Epoch 17/20\n",
            "196/196 [==============================] - 4s 21ms/step - loss: 0.0245 - accuracy: 0.9914 - val_loss: 0.9329 - val_accuracy: 0.8356\n",
            "Epoch 18/20\n",
            "196/196 [==============================] - 4s 20ms/step - loss: 0.0250 - accuracy: 0.9910 - val_loss: 0.8309 - val_accuracy: 0.8356\n",
            "Epoch 19/20\n",
            "196/196 [==============================] - 4s 19ms/step - loss: 0.0230 - accuracy: 0.9920 - val_loss: 0.9150 - val_accuracy: 0.8389\n",
            "Epoch 20/20\n",
            "196/196 [==============================] - 4s 19ms/step - loss: 0.0190 - accuracy: 0.9939 - val_loss: 0.9088 - val_accuracy: 0.8385\n"
          ]
        },
        {
          "output_type": "execute_result",
          "data": {
            "text/plain": [
              "<keras.callbacks.History at 0x7f797fdb53d0>"
            ]
          },
          "metadata": {},
          "execution_count": 9
        }
      ]
    },
    {
      "cell_type": "markdown",
      "source": [
        "### Evaluate"
      ],
      "metadata": {
        "id": "LqfHU7f0xzwH"
      }
    },
    {
      "cell_type": "code",
      "source": [
        "model.load_weights(output_dir+\"/weights.03.hdf5\") "
      ],
      "metadata": {
        "id": "I64LQJgHxxA6"
      },
      "execution_count": 10,
      "outputs": []
    },
    {
      "cell_type": "code",
      "source": [
        "y_hat = model.predict(x_valid)"
      ],
      "metadata": {
        "colab": {
          "base_uri": "https://localhost:8080/"
        },
        "id": "JI9FxpDxyet7",
        "outputId": "c2d79af9-9729-4c8d-aec3-745b08cd16c4"
      },
      "execution_count": 12,
      "outputs": [
        {
          "output_type": "stream",
          "name": "stdout",
          "text": [
            "782/782 [==============================] - 3s 4ms/step\n"
          ]
        }
      ]
    },
    {
      "cell_type": "code",
      "source": [
        "plt.hist(y_hat)\n",
        "_ = plt.axvline(x=0.5, color='orange')"
      ],
      "metadata": {
        "colab": {
          "base_uri": "https://localhost:8080/",
          "height": 265
        },
        "id": "DBS1BhyYyhcr",
        "outputId": "df03449f-1300-42cf-b1a7-371393fbcf02"
      },
      "execution_count": 13,
      "outputs": [
        {
          "output_type": "display_data",
          "data": {
            "text/plain": [
              "<Figure size 432x288 with 1 Axes>"
            ],
            "image/png": "[encoded data removed]"
          },
          "metadata": {
            "needs_background": "light"
          }
        }
      ]
    },
    {
      "cell_type": "code",
      "source": [
        "\"{:0.2f}\".format(roc_auc_score(y_valid, y_hat)*100.0)"
      ],
      "metadata": {
        "colab": {
          "base_uri": "https://localhost:8080/",
          "height": 35
        },
        "id": "vQ74c7Adynjs",
        "outputId": "da9c6720-7273-4fcd-f778-a77e068b3239"
      },
      "execution_count": 14,
      "outputs": [
        {
          "output_type": "execute_result",
          "data": {
            "text/plain": [
              "'93.24'"
            ],
            "application/vnd.google.colaboratory.intrinsic+json": {
              "type": "string"
            }
          },
          "metadata": {},
          "execution_count": 14
        }
      ]
    },
    {
      "cell_type": "code",
      "source": [],
      "metadata": {
        "id": "c931RyIMyrS6"
      },
      "execution_count": null,
      "outputs": []
    }
  ]
}