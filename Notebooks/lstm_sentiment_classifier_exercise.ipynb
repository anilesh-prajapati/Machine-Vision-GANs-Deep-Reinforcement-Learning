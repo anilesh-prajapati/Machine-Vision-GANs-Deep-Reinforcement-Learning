{
  "nbformat": 4,
  "nbformat_minor": 0,
  "metadata": {
    "colab": {
      "provenance": [],
      "collapsed_sections": []
    },
    "kernelspec": {
      "name": "python3",
      "display_name": "Python 3"
    },
    "language_info": {
      "name": "python"
    },
    "accelerator": "GPU",
    "gpuClass": "standard"
  },
  "cells": [
    {
      "cell_type": "markdown",
      "source": [
        "# LSTM Sentiment Classifier"
      ],
      "metadata": {
        "id": "zZOhdrDrmxqG"
      }
    },
    {
      "cell_type": "markdown",
      "source": [
        "In this notebook , we use an LSTM to classify IMDB movie reviews by their sentiment"
      ],
      "metadata": {
        "id": "unLyPJiZm5b2"
      }
    },
    {
      "cell_type": "markdown",
      "source": [
        "### Load Dependencies"
      ],
      "metadata": {
        "id": "pA8WDDDgnHN7"
      }
    },
    {
      "cell_type": "code",
      "execution_count": 1,
      "metadata": {
        "id": "jFiJ9WlYmYle"
      },
      "outputs": [],
      "source": [
        "import tensorflow\n",
        "from tensorflow.keras.datasets import imdb\n",
        "from tensorflow.keras.preprocessing.sequence import pad_sequences\n",
        "from tensorflow.keras.models import Sequential\n",
        "from tensorflow.keras.layers import Dense, Dropout, Embedding, SpatialDropout1D\n",
        "from tensorflow.keras.layers import LSTM # new! \n",
        "from tensorflow.keras.callbacks import ModelCheckpoint\n",
        "import os\n",
        "from sklearn.metrics import roc_auc_score \n",
        "import matplotlib.pyplot as plt "
      ]
    },
    {
      "cell_type": "markdown",
      "source": [
        "### Set Hyperparameters"
      ],
      "metadata": {
        "id": "bjz5t8a6nYnr"
      }
    },
    {
      "cell_type": "code",
      "source": [
        "# output directory name:\n",
        "output_dir = 'model_output/LSTM'\n",
        "\n",
        "# training\n",
        "epochs = 16\n",
        "batch_size = 128\n",
        "\n",
        "# Vector_Space Embedding:\n",
        "n_dim = 64\n",
        "n_unique_words = 10000\n",
        "max_review_length = 100\n",
        "pad_type = trunc_type = 'pre'\n",
        "drop_embed = 0.2\n",
        "\n",
        "# LSTM Layer Architecture:\n",
        "n_lstm = 256\n",
        "drop_lstm = 0.2\n",
        "\n",
        "# Dense Layer Architecture:\n",
        "n_dense = 256\n",
        "dropout = 0.2\n"
      ],
      "metadata": {
        "id": "y3mlJCdsnXFD"
      },
      "execution_count": 2,
      "outputs": []
    },
    {
      "cell_type": "markdown",
      "source": [
        "### Load Data"
      ],
      "metadata": {
        "id": "kdg0O-mmozds"
      }
    },
    {
      "cell_type": "code",
      "source": [
        "(x_train, y_train), (x_valid, y_valid) = imdb.load_data(num_words=n_unique_words)"
      ],
      "metadata": {
        "colab": {
          "base_uri": "https://localhost:8080/"
        },
        "id": "mCiDPJ_Cov75",
        "outputId": "8d3cde5d-41e6-424d-9d9b-cefe8c4b1e73"
      },
      "execution_count": 3,
      "outputs": [
        {
          "output_type": "stream",
          "name": "stdout",
          "text": [
            "Downloading data from https://storage.googleapis.com/tensorflow/tf-keras-datasets/imdb.npz\n",
            "17464789/17464789 [==============================] - 1s 0us/step\n"
          ]
        }
      ]
    },
    {
      "cell_type": "markdown",
      "source": [
        "### Preprocess Data"
      ],
      "metadata": {
        "id": "HRR7anrapJqR"
      }
    },
    {
      "cell_type": "code",
      "source": [
        "x_train = pad_sequences(x_train, maxlen= max_review_length, padding= pad_type, truncating=trunc_type, value=0)\n",
        "x_valid = pad_sequences(x_valid, maxlen=max_review_length, padding= pad_type, truncating=trunc_type, value=0)"
      ],
      "metadata": {
        "id": "K4jdpmyOpIXE"
      },
      "execution_count": 4,
      "outputs": []
    },
    {
      "cell_type": "markdown",
      "source": [
        "### Design Neural Network Architecture"
      ],
      "metadata": {
        "id": "v9g7ffZfqCG7"
      }
    },
    {
      "cell_type": "code",
      "source": [
        "model = Sequential()\n",
        "\n",
        "# first hidden layer:\n",
        "model.add(Embedding(n_unique_words, n_dim, input_length=max_review_length))\n",
        "model.add(SpatialDropout1D(drop_embed))\n",
        "\n",
        "# second hidden layer:\n",
        "model.add(LSTM(n_lstm, dropout=drop_lstm))\n",
        "\n",
        "# third hidden layer:\n",
        "model.add(Dense(n_dense, activation='relu'))\n",
        "model.add(Dropout(dropout))\n",
        "\n",
        "# Output layer:\n",
        "model.add(Dense(1, activation='sigmoid'))"
      ],
      "metadata": {
        "id": "CCFxGg9ep_dn"
      },
      "execution_count": 5,
      "outputs": []
    },
    {
      "cell_type": "code",
      "source": [
        "model.summary()"
      ],
      "metadata": {
        "colab": {
          "base_uri": "https://localhost:8080/"
        },
        "id": "3PiNiV7hrjrj",
        "outputId": "1de933ee-273d-4c38-876b-11b31dee5f0e"
      },
      "execution_count": 6,
      "outputs": [
        {
          "output_type": "stream",
          "name": "stdout",
          "text": [
            "Model: \"sequential\"\n",
            "_________________________________________________________________\n",
            " Layer (type)                Output Shape              Param #   \n",
            "=================================================================\n",
            " embedding (Embedding)       (None, 100, 64)           640000    \n",
            "                                                                 \n",
            " spatial_dropout1d (SpatialD  (None, 100, 64)          0         \n",
            " ropout1D)                                                       \n",
            "                                                                 \n",
            " lstm (LSTM)                 (None, 256)               328704    \n",
            "                                                                 \n",
            " dense (Dense)               (None, 256)               65792     \n",
            "                                                                 \n",
            " dropout (Dropout)           (None, 256)               0         \n",
            "                                                                 \n",
            " dense_1 (Dense)             (None, 1)                 257       \n",
            "                                                                 \n",
            "=================================================================\n",
            "Total params: 1,034,753\n",
            "Trainable params: 1,034,753\n",
            "Non-trainable params: 0\n",
            "_________________________________________________________________\n"
          ]
        }
      ]
    },
    {
      "cell_type": "markdown",
      "source": [
        "### Configure Model "
      ],
      "metadata": {
        "id": "RMKytYX2ruaB"
      }
    },
    {
      "cell_type": "code",
      "source": [
        "model.compile(loss='binary_crossentropy', optimizer='nadam', metrics=['accuracy'])"
      ],
      "metadata": {
        "id": "_reKnajwrmk7"
      },
      "execution_count": 7,
      "outputs": []
    },
    {
      "cell_type": "code",
      "source": [
        "modelcheckpoint = ModelCheckpoint(filepath= output_dir + \"/weights.{epoch:02d}.hdf5\")\n",
        "if not os.path.exists(output_dir):\n",
        "  os.makedirs(output_dir)"
      ],
      "metadata": {
        "id": "YrO7hWnbsBuS"
      },
      "execution_count": 8,
      "outputs": []
    },
    {
      "cell_type": "markdown",
      "source": [
        "### Train !"
      ],
      "metadata": {
        "id": "Y1Uiz9vtso7x"
      }
    },
    {
      "cell_type": "code",
      "source": [
        "model.fit(x_train, y_train, batch_size=batch_size, epochs=epochs, verbose=1, validation_data=(x_valid, y_valid), callbacks=[modelcheckpoint])"
      ],
      "metadata": {
        "colab": {
          "base_uri": "https://localhost:8080/"
        },
        "id": "5WdMAWMQsn8p",
        "outputId": "8a47ad75-6c37-4088-fb67-f7a774bc7eb5"
      },
      "execution_count": 9,
      "outputs": [
        {
          "output_type": "stream",
          "name": "stdout",
          "text": [
            "Epoch 1/16\n",
            "196/196 [==============================] - 12s 25ms/step - loss: 0.5645 - accuracy: 0.7168 - val_loss: 0.3680 - val_accuracy: 0.8378\n",
            "Epoch 2/16\n",
            "196/196 [==============================] - 4s 21ms/step - loss: 0.3143 - accuracy: 0.8680 - val_loss: 0.3593 - val_accuracy: 0.8417\n",
            "Epoch 3/16\n",
            "196/196 [==============================] - 4s 21ms/step - loss: 0.2564 - accuracy: 0.8970 - val_loss: 0.3596 - val_accuracy: 0.8417\n",
            "Epoch 4/16\n",
            "196/196 [==============================] - 4s 21ms/step - loss: 0.2189 - accuracy: 0.9157 - val_loss: 0.3776 - val_accuracy: 0.8438\n",
            "Epoch 5/16\n",
            "196/196 [==============================] - 4s 21ms/step - loss: 0.1826 - accuracy: 0.9313 - val_loss: 0.5072 - val_accuracy: 0.8253\n",
            "Epoch 6/16\n",
            "196/196 [==============================] - 4s 21ms/step - loss: 0.1601 - accuracy: 0.9382 - val_loss: 0.4193 - val_accuracy: 0.8367\n",
            "Epoch 7/16\n",
            "196/196 [==============================] - 4s 21ms/step - loss: 0.1301 - accuracy: 0.9519 - val_loss: 0.4749 - val_accuracy: 0.8389\n",
            "Epoch 8/16\n",
            "196/196 [==============================] - 4s 21ms/step - loss: 0.1082 - accuracy: 0.9609 - val_loss: 0.6077 - val_accuracy: 0.8304\n",
            "Epoch 9/16\n",
            "196/196 [==============================] - 4s 22ms/step - loss: 0.0905 - accuracy: 0.9684 - val_loss: 0.5876 - val_accuracy: 0.8329\n",
            "Epoch 10/16\n",
            "196/196 [==============================] - 4s 22ms/step - loss: 0.0754 - accuracy: 0.9730 - val_loss: 0.5968 - val_accuracy: 0.8252\n",
            "Epoch 11/16\n",
            "196/196 [==============================] - 4s 23ms/step - loss: 0.0673 - accuracy: 0.9758 - val_loss: 0.6665 - val_accuracy: 0.8258\n",
            "Epoch 12/16\n",
            "196/196 [==============================] - 4s 21ms/step - loss: 0.0576 - accuracy: 0.9798 - val_loss: 1.0316 - val_accuracy: 0.8160\n",
            "Epoch 13/16\n",
            "196/196 [==============================] - 4s 22ms/step - loss: 0.0506 - accuracy: 0.9825 - val_loss: 0.7212 - val_accuracy: 0.8216\n",
            "Epoch 14/16\n",
            "196/196 [==============================] - 4s 22ms/step - loss: 0.0432 - accuracy: 0.9845 - val_loss: 1.1814 - val_accuracy: 0.8238\n",
            "Epoch 15/16\n",
            "196/196 [==============================] - 4s 22ms/step - loss: 0.0425 - accuracy: 0.9852 - val_loss: 0.8558 - val_accuracy: 0.8271\n",
            "Epoch 16/16\n",
            "196/196 [==============================] - 4s 22ms/step - loss: 0.0322 - accuracy: 0.9890 - val_loss: 0.8916 - val_accuracy: 0.8286\n"
          ]
        },
        {
          "output_type": "execute_result",
          "data": {
            "text/plain": [
              "<keras.callbacks.History at 0x7fce62ef0d10>"
            ]
          },
          "metadata": {},
          "execution_count": 9
        }
      ]
    },
    {
      "cell_type": "markdown",
      "source": [
        "### Evaluate"
      ],
      "metadata": {
        "id": "Ccof1YzNu_KB"
      }
    },
    {
      "cell_type": "code",
      "source": [
        "model.load_weights(output_dir+\"/weights.02.hdf5\")"
      ],
      "metadata": {
        "id": "_ZKdD5CNtaYY"
      },
      "execution_count": 10,
      "outputs": []
    },
    {
      "cell_type": "code",
      "source": [
        "y_hat = model.predict(x_valid)"
      ],
      "metadata": {
        "colab": {
          "base_uri": "https://localhost:8080/"
        },
        "id": "fPO7-oGLvPYa",
        "outputId": "b26973fa-f143-4073-de0b-691f065a7e13"
      },
      "execution_count": 11,
      "outputs": [
        {
          "output_type": "stream",
          "name": "stdout",
          "text": [
            "782/782 [==============================] - 4s 4ms/step\n"
          ]
        }
      ]
    },
    {
      "cell_type": "code",
      "source": [
        "plt.hist(y_hat)\n",
        "_ = plt.axvline(x=0.5, color='orange')"
      ],
      "metadata": {
        "colab": {
          "base_uri": "https://localhost:8080/",
          "height": 265
        },
        "id": "Ndn6SeZEvU6k",
        "outputId": "e7c72b47-c1c9-48f2-b0eb-7793ce30a3f5"
      },
      "execution_count": 12,
      "outputs": [
        {
          "output_type": "display_data",
          "data": {
            "text/plain": [
              "<Figure size 432x288 with 1 Axes>"
            ],
            "image/png": "[encoded data removed]"
          },
          "metadata": {
            "needs_background": "light"
          }
        }
      ]
    },
    {
      "cell_type": "code",
      "source": [
        "\"{:0.2f}\".format(roc_auc_score(y_valid, y_hat)*100.0)"
      ],
      "metadata": {
        "colab": {
          "base_uri": "https://localhost:8080/",
          "height": 35
        },
        "id": "y33WCD5pvhU0",
        "outputId": "9b3a6c66-a44d-4e0c-d8fa-41cbb8d5cb70"
      },
      "execution_count": 13,
      "outputs": [
        {
          "output_type": "execute_result",
          "data": {
            "text/plain": [
              "'92.33'"
            ],
            "application/vnd.google.colaboratory.intrinsic+json": {
              "type": "string"
            }
          },
          "metadata": {},
          "execution_count": 13
        }
      ]
    },
    {
      "cell_type": "code",
      "source": [],
      "metadata": {
        "id": "udJAaWuUvux2"
      },
      "execution_count": null,
      "outputs": []
    }
  ]
}