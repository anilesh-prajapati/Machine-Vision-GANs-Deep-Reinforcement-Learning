{
  "nbformat": 4,
  "nbformat_minor": 0,
  "metadata": {
    "colab": {
      "provenance": [],
      "collapsed_sections": []
    },
    "kernelspec": {
      "name": "python3",
      "display_name": "Python 3"
    },
    "language_info": {
      "name": "python"
    },
    "accelerator": "GPU",
    "gpuClass": "standard"
  },
  "cells": [
    {
      "cell_type": "markdown",
      "source": [
        "# Multi-ConvNet Sentiment Classifier"
      ],
      "metadata": {
        "id": "u0id3N8T4B0u"
      }
    },
    {
      "cell_type": "markdown",
      "source": [
        " In this notebook, we concatenate the outputs of multiple, parallel convolutional layers to classify IMDB movie reviews by their sentiment."
      ],
      "metadata": {
        "id": "n0VQ3Ahg4FjC"
      }
    },
    {
      "cell_type": "markdown",
      "source": [
        "### Load dependencies"
      ],
      "metadata": {
        "id": "9QK0Q1yH4Lx4"
      }
    },
    {
      "cell_type": "code",
      "execution_count": 2,
      "metadata": {
        "id": "tk0R2dNMVFbl"
      },
      "outputs": [],
      "source": [
        "import tensorflow\n",
        "from tensorflow.keras.datasets import imdb\n",
        "from tensorflow.keras.preprocessing.sequence import pad_sequences\n",
        "from tensorflow.keras.models import Model # new!\n",
        "from tensorflow.keras.layers import Input, concatenate # new! \n",
        "from tensorflow.keras.layers import Dense, Dropout, Embedding, SpatialDropout1D, Conv1D, GlobalMaxPooling1D\n",
        "from tensorflow.keras.callbacks import ModelCheckpoint\n",
        "import os\n",
        "from sklearn.metrics import roc_auc_score \n",
        "import matplotlib.pyplot as plt "
      ]
    },
    {
      "cell_type": "markdown",
      "source": [
        "### Set Hyperparameters"
      ],
      "metadata": {
        "id": "MRv4Jkbz4BCH"
      }
    },
    {
      "cell_type": "code",
      "source": [
        "# output directory name :\n",
        "output_dir = 'model_output/multiconv'\n",
        "\n",
        "# Training :\n",
        "epochs = 4\n",
        "batch_size = 128\n",
        "\n",
        "# Vector_space embedding:\n",
        "n_dim = 64\n",
        "n_unique_words = 5000\n",
        "max_review_length = 400\n",
        "pad_type = trunc_type = 'pre'\n",
        "drop_embed = 0.2\n",
        "\n",
        "# Convolutional layer Architecture:\n",
        "n_conv_1 = n_conv_2 = n_conv_3 = 256\n",
        "k_conv_1 = 3\n",
        "k_conv_2 = 2\n",
        "k_conv_3 = 4\n",
        "\n",
        "\n",
        "# Dense layer Architecture :\n",
        "n_dense = 256\n",
        "dropout = 0.2"
      ],
      "metadata": {
        "id": "wPRgv8NB4Vz8"
      },
      "execution_count": 3,
      "outputs": []
    },
    {
      "cell_type": "markdown",
      "source": [
        "### Load Data"
      ],
      "metadata": {
        "id": "ijnvP8ow5g17"
      }
    },
    {
      "cell_type": "code",
      "source": [
        "(x_train, y_train), (x_valid, y_valid) = imdb.load_data(num_words=n_unique_words)"
      ],
      "metadata": {
        "colab": {
          "base_uri": "https://localhost:8080/"
        },
        "id": "UVyUS10W5fkQ",
        "outputId": "9066ad18-67d2-487c-f784-a4ce64f985af"
      },
      "execution_count": 4,
      "outputs": [
        {
          "output_type": "stream",
          "name": "stdout",
          "text": [
            "Downloading data from https://storage.googleapis.com/tensorflow/tf-keras-datasets/imdb.npz\n",
            "17464789/17464789 [==============================] - 1s 0us/step\n"
          ]
        }
      ]
    },
    {
      "cell_type": "markdown",
      "source": [
        "### Preprocess Data"
      ],
      "metadata": {
        "id": "A5K1ev2Z51NX"
      }
    },
    {
      "cell_type": "code",
      "source": [
        "x_train = pad_sequences(x_train, maxlen=max_review_length, padding=pad_type, truncating=trunc_type, value=0)\n",
        "x_valid = pad_sequences(x_valid, maxlen=max_review_length, padding=pad_type, truncating=trunc_type, value=0)"
      ],
      "metadata": {
        "id": "nc-7SuSN5zLa"
      },
      "execution_count": 5,
      "outputs": []
    },
    {
      "cell_type": "markdown",
      "source": [
        "### Design Neural Network Architecture"
      ],
      "metadata": {
        "id": "fgz11yh059k0"
      }
    },
    {
      "cell_type": "code",
      "source": [
        "input_layer = Input(shape=(max_review_length,),\n",
        "                    dtype='int16', name='input')\n",
        "\n",
        "\n",
        "# Embedding :\n",
        "embedding_layer = Embedding(n_unique_words, n_dim, name='embedding') (input_layer)\n",
        "drop_embed_layer = SpatialDropout1D(drop_embed, name='drop_embed')(embedding_layer)\n",
        "\n",
        "# Three Parallel Convolutional Stream :\n",
        "conv_1 = Conv1D(n_conv_1, k_conv_1, activation='relu', name='conv_1')(drop_embed_layer)\n",
        "maxp_1 = GlobalMaxPooling1D(name='maxp_1')(conv_1)\n",
        "\n",
        "conv_2 = Conv1D(n_conv_2 , k_conv_2, activation='relu', name='conv_2')(drop_embed_layer)\n",
        "maxp_2 = GlobalMaxPooling1D(name='maxp_2')(conv_2)\n",
        "\n",
        "conv_3 = Conv1D(n_conv_3, k_conv_3, activation='relu', name='conv_3')(drop_embed_layer)\n",
        "maxp_3 = GlobalMaxPooling1D(name='maxp_3')(conv_3)\n",
        "\n",
        "\n",
        "# Concatenate The Activation from The Three Streams:\n",
        "concat = concatenate([maxp_1, maxp_2, maxp_3])\n",
        "\n",
        "# Dense Hidden Layer :\n",
        "dense_layer =  Dense(n_dense, activation= 'relu', name='dense')(concat)\n",
        "drop_dense_layer = Dropout(dropout, name='drop_dense')(dense_layer)\n",
        "\n",
        "dense_2 = Dense(int(n_dense/4), activation='relu', name='dense_2') (drop_dense_layer)\n",
        "dropout_2 = Dropout(dropout, name='drop_dense_2')(dense_2)\n",
        "\n",
        "# Sigmoid output Layer:\n",
        "predictions = Dense(1, activation='sigmoid', name='output')(dropout_2)\n",
        "\n",
        "\n",
        "# Create Model :\n",
        "model = Model(input_layer, predictions)"
      ],
      "metadata": {
        "id": "RhAatTp757vr"
      },
      "execution_count": 6,
      "outputs": []
    },
    {
      "cell_type": "code",
      "source": [
        "model.summary()"
      ],
      "metadata": {
        "colab": {
          "base_uri": "https://localhost:8080/"
        },
        "id": "HWLCkn0o_NL0",
        "outputId": "5f30dde5-e17a-4374-864f-efdd08b36fb3"
      },
      "execution_count": 7,
      "outputs": [
        {
          "output_type": "stream",
          "name": "stdout",
          "text": [
            "Model: \"model\"\n",
            "__________________________________________________________________________________________________\n",
            " Layer (type)                   Output Shape         Param #     Connected to                     \n",
            "==================================================================================================\n",
            " input (InputLayer)             [(None, 400)]        0           []                               \n",
            "                                                                                                  \n",
            " embedding (Embedding)          (None, 400, 64)      320000      ['input[0][0]']                  \n",
            "                                                                                                  \n",
            " drop_embed (SpatialDropout1D)  (None, 400, 64)      0           ['embedding[0][0]']              \n",
            "                                                                                                  \n",
            " conv_1 (Conv1D)                (None, 398, 256)     49408       ['drop_embed[0][0]']             \n",
            "                                                                                                  \n",
            " conv_2 (Conv1D)                (None, 399, 256)     33024       ['drop_embed[0][0]']             \n",
            "                                                                                                  \n",
            " conv_3 (Conv1D)                (None, 397, 256)     65792       ['drop_embed[0][0]']             \n",
            "                                                                                                  \n",
            " maxp_1 (GlobalMaxPooling1D)    (None, 256)          0           ['conv_1[0][0]']                 \n",
            "                                                                                                  \n",
            " maxp_2 (GlobalMaxPooling1D)    (None, 256)          0           ['conv_2[0][0]']                 \n",
            "                                                                                                  \n",
            " maxp_3 (GlobalMaxPooling1D)    (None, 256)          0           ['conv_3[0][0]']                 \n",
            "                                                                                                  \n",
            " concatenate (Concatenate)      (None, 768)          0           ['maxp_1[0][0]',                 \n",
            "                                                                  'maxp_2[0][0]',                 \n",
            "                                                                  'maxp_3[0][0]']                 \n",
            "                                                                                                  \n",
            " dense (Dense)                  (None, 256)          196864      ['concatenate[0][0]']            \n",
            "                                                                                                  \n",
            " drop_dense (Dropout)           (None, 256)          0           ['dense[0][0]']                  \n",
            "                                                                                                  \n",
            " dense_2 (Dense)                (None, 64)           16448       ['drop_dense[0][0]']             \n",
            "                                                                                                  \n",
            " drop_dense_2 (Dropout)         (None, 64)           0           ['dense_2[0][0]']                \n",
            "                                                                                                  \n",
            " output (Dense)                 (None, 1)            65          ['drop_dense_2[0][0]']           \n",
            "                                                                                                  \n",
            "==================================================================================================\n",
            "Total params: 681,601\n",
            "Trainable params: 681,601\n",
            "Non-trainable params: 0\n",
            "__________________________________________________________________________________________________\n"
          ]
        }
      ]
    },
    {
      "cell_type": "markdown",
      "source": [
        "### Configure Model"
      ],
      "metadata": {
        "id": "6yYoddr8_cOh"
      }
    },
    {
      "cell_type": "code",
      "source": [
        "model.compile(loss='binary_crossentropy', optimizer='nadam', metrics=['accuracy'])"
      ],
      "metadata": {
        "id": "8oTmgc-D_Owc"
      },
      "execution_count": 8,
      "outputs": []
    },
    {
      "cell_type": "code",
      "source": [
        "modelcheckpoint = ModelCheckpoint(filepath=output_dir+\"/weights.{epoch:02d}.hdf5\")\n",
        "if not os.path.exists(output_dir):\n",
        "    os.makedirs(output_dir)"
      ],
      "metadata": {
        "id": "2T6U27vB_iQS"
      },
      "execution_count": 9,
      "outputs": []
    },
    {
      "cell_type": "markdown",
      "source": [
        "### Train ! "
      ],
      "metadata": {
        "id": "Yh3d5X4Z_lFw"
      }
    },
    {
      "cell_type": "code",
      "source": [
        "model.fit(x_train, y_train, batch_size=batch_size, epochs= epochs, verbose=1, validation_data=(x_valid, y_valid), callbacks=[modelcheckpoint])"
      ],
      "metadata": {
        "colab": {
          "base_uri": "https://localhost:8080/"
        },
        "id": "c1AQbKY8_kI8",
        "outputId": "eae49fa9-ff81-440e-ef47-d09428a8e334"
      },
      "execution_count": 10,
      "outputs": [
        {
          "output_type": "stream",
          "name": "stdout",
          "text": [
            "Epoch 1/4\n",
            "196/196 [==============================] - 18s 45ms/step - loss: 0.4966 - accuracy: 0.7252 - val_loss: 0.2960 - val_accuracy: 0.8748\n",
            "Epoch 2/4\n",
            "196/196 [==============================] - 9s 44ms/step - loss: 0.2637 - accuracy: 0.8930 - val_loss: 0.2720 - val_accuracy: 0.8889\n",
            "Epoch 3/4\n",
            "196/196 [==============================] - 9s 47ms/step - loss: 0.1923 - accuracy: 0.9280 - val_loss: 0.2567 - val_accuracy: 0.8966\n",
            "Epoch 4/4\n",
            "196/196 [==============================] - 9s 44ms/step - loss: 0.1441 - accuracy: 0.9493 - val_loss: 0.2771 - val_accuracy: 0.8919\n"
          ]
        },
        {
          "output_type": "execute_result",
          "data": {
            "text/plain": [
              "<keras.callbacks.History at 0x7ffb6de5f710>"
            ]
          },
          "metadata": {},
          "execution_count": 10
        }
      ]
    },
    {
      "cell_type": "markdown",
      "source": [
        "### Evaluate"
      ],
      "metadata": {
        "id": "7-bzVjaWCzHG"
      }
    },
    {
      "cell_type": "code",
      "source": [
        "model.load_weights(output_dir+\"/weights.03.hdf5\")"
      ],
      "metadata": {
        "id": "JeDaGswQAHwI"
      },
      "execution_count": 14,
      "outputs": []
    },
    {
      "cell_type": "code",
      "source": [
        "y_hat = model.predict(x_valid)"
      ],
      "metadata": {
        "colab": {
          "base_uri": "https://localhost:8080/"
        },
        "id": "lry1ughZC9Fz",
        "outputId": "59e7c17a-6462-464e-a274-0cb45b4d423b"
      },
      "execution_count": 15,
      "outputs": [
        {
          "output_type": "stream",
          "name": "stdout",
          "text": [
            "782/782 [==============================] - 3s 4ms/step\n"
          ]
        }
      ]
    },
    {
      "cell_type": "code",
      "source": [
        "plt.hist(y_hat)\n",
        "_= plt.axvline(x=0.5, color='orange')"
      ],
      "metadata": {
        "colab": {
          "base_uri": "https://localhost:8080/",
          "height": 265
        },
        "id": "jQlZJPUsDABd",
        "outputId": "6707ccf1-098b-4790-f7bd-8ec91fc38d85"
      },
      "execution_count": 16,
      "outputs": [
        {
          "output_type": "display_data",
          "data": {
            "text/plain": [
              "<Figure size 432x288 with 1 Axes>"
            ],
            "image/png": "[encoded data removed]"
          },
          "metadata": {
            "needs_background": "light"
          }
        }
      ]
    },
    {
      "cell_type": "code",
      "source": [
        "\"{:0.2f}\".format(roc_auc_score(y_valid, y_hat)*100.0)"
      ],
      "metadata": {
        "colab": {
          "base_uri": "https://localhost:8080/",
          "height": 35
        },
        "id": "LYsilBRWDK4b",
        "outputId": "d43bacc2-de3b-4e8c-ee70-eabb528bbad6"
      },
      "execution_count": 17,
      "outputs": [
        {
          "output_type": "execute_result",
          "data": {
            "text/plain": [
              "'96.24'"
            ],
            "application/vnd.google.colaboratory.intrinsic+json": {
              "type": "string"
            }
          },
          "metadata": {},
          "execution_count": 17
        }
      ]
    },
    {
      "cell_type": "code",
      "source": [],
      "metadata": {
        "id": "Q1HvLWYmDVDy"
      },
      "execution_count": null,
      "outputs": []
    }
  ]
}