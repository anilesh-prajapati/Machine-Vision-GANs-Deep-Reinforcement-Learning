{
 "cells": [
  {
   "cell_type": "markdown",
   "id": "18619a96",
   "metadata": {},
   "source": [
    "# Regression Example in TensorFlow (With TensorBoard)\n"
   ]
  },
  {
   "cell_type": "markdown",
   "id": "60ae2d1f",
   "metadata": {},
   "source": [
    "Predict house price in Boston , Massachusetts while logging result for TensorBoard"
   ]
  },
  {
   "cell_type": "markdown",
   "id": "0cba27fd",
   "metadata": {},
   "source": [
    "## Load Dependencies"
   ]
  },
  {
   "cell_type": "code",
   "execution_count": 1,
   "id": "bc5eeb85",
   "metadata": {},
   "outputs": [],
   "source": [
    "import numpy as np\n",
    "from tensorflow.keras.datasets import boston_housing \n",
    "from tensorflow.keras.models import Sequential\n",
    "from tensorflow.keras.layers import Dense, Dropout \n",
    "from tensorflow.keras.layers import BatchNormalization \n",
    "from tensorflow.keras.callbacks import ModelCheckpoint \n",
    "from tensorflow.keras.callbacks import TensorBoard # new!  \n",
    "import os"
   ]
  },
  {
   "cell_type": "markdown",
   "id": "ba66b160",
   "metadata": {},
   "source": [
    "## Load Data"
   ]
  },
  {
   "cell_type": "code",
   "execution_count": 2,
   "id": "928e278d",
   "metadata": {},
   "outputs": [],
   "source": [
    "(X_train, y_train), (X_valid, y_valid) = boston_housing.load_data()"
   ]
  },
  {
   "cell_type": "markdown",
   "id": "de4f8a7b",
   "metadata": {},
   "source": [
    "## Design Neural Network Architecture"
   ]
  },
  {
   "cell_type": "code",
   "execution_count": 3,
   "id": "37346749",
   "metadata": {},
   "outputs": [],
   "source": [
    "model = Sequential()\n",
    "\n",
    "# first hidden layer\n",
    "model.add(Dense(32, input_dim=13, activation = 'relu'))\n",
    "model.add(BatchNormalization())\n",
    "\n",
    "# second hidden layer\n",
    "model.add(Dense(16, activation='relu'))\n",
    "model.add(BatchNormalization())\n",
    "model.add(Dropout(0.5))\n",
    "\n",
    "# output layer\n",
    "model.add(Dense(1, activation='linear'))"
   ]
  },
  {
   "cell_type": "code",
   "execution_count": 4,
   "id": "d1e933fd",
   "metadata": {},
   "outputs": [
    {
     "name": "stdout",
     "output_type": "stream",
     "text": [
      "Model: \"sequential\"\n",
      "_________________________________________________________________\n",
      " Layer (type)                Output Shape              Param #   \n",
      "=================================================================\n",
      " dense (Dense)               (None, 32)                448       \n",
      "                                                                 \n",
      " batch_normalization (BatchN  (None, 32)               128       \n",
      " ormalization)                                                   \n",
      "                                                                 \n",
      " dense_1 (Dense)             (None, 16)                528       \n",
      "                                                                 \n",
      " batch_normalization_1 (Batc  (None, 16)               64        \n",
      " hNormalization)                                                 \n",
      "                                                                 \n",
      " dropout (Dropout)           (None, 16)                0         \n",
      "                                                                 \n",
      " dense_2 (Dense)             (None, 1)                 17        \n",
      "                                                                 \n",
      "=================================================================\n",
      "Total params: 1,185\n",
      "Trainable params: 1,089\n",
      "Non-trainable params: 96\n",
      "_________________________________________________________________\n"
     ]
    }
   ],
   "source": [
    "\n",
    "model.summary()"
   ]
  },
  {
   "cell_type": "markdown",
   "id": "ec5cb78d",
   "metadata": {},
   "source": [
    "## Configure Model"
   ]
  },
  {
   "cell_type": "code",
   "execution_count": 5,
   "id": "7c6f8895",
   "metadata": {},
   "outputs": [],
   "source": [
    "model.compile(loss='mean_squared_error', optimizer='adam')"
   ]
  },
  {
   "cell_type": "code",
   "execution_count": 6,
   "id": "a97579b2",
   "metadata": {},
   "outputs": [],
   "source": [
    "output_dir = 'model_output/'"
   ]
  },
  {
   "cell_type": "code",
   "execution_count": 7,
   "id": "76723f47",
   "metadata": {},
   "outputs": [],
   "source": [
    "run_name = 'regression_drop50'\n",
    "output_path = output_dir + run_name\n"
   ]
  },
  {
   "cell_type": "code",
   "execution_count": 8,
   "id": "ff3d5593",
   "metadata": {},
   "outputs": [],
   "source": [
    "if not os.path.exists(output_path):\n",
    "    os.makedirs(output_path)"
   ]
  },
  {
   "cell_type": "code",
   "execution_count": 9,
   "id": "894fd259",
   "metadata": {},
   "outputs": [],
   "source": [
    "modelcheckpoint = ModelCheckpoint(output_path + '/weights.{epoch:02d}.hdf5', # decimal integers\n",
    "                                  save_weights_only=True) # otherwise full model is saved"
   ]
  },
  {
   "cell_type": "code",
   "execution_count": 10,
   "id": "7c0482e1",
   "metadata": {},
   "outputs": [],
   "source": [
    "tensorboard = TensorBoard(log_dir='logs/' + run_name)"
   ]
  },
  {
   "cell_type": "markdown",
   "id": "9c1b0f3c",
   "metadata": {},
   "source": [
    "## Train"
   ]
  },
  {
   "cell_type": "code",
   "execution_count": 11,
   "id": "bf45ce5c",
   "metadata": {},
   "outputs": [
    {
     "name": "stdout",
     "output_type": "stream",
     "text": [
      "Epoch 1/32\n",
      "51/51 [==============================] - 3s 21ms/step - loss: 583.7778 - val_loss: 411.7441\n",
      "Epoch 2/32\n",
      "51/51 [==============================] - 1s 10ms/step - loss: 565.4982 - val_loss: 505.6786\n",
      "Epoch 3/32\n",
      "51/51 [==============================] - 1s 12ms/step - loss: 554.1063 - val_loss: 531.1201\n",
      "Epoch 4/32\n",
      "51/51 [==============================] - 1s 12ms/step - loss: 535.8980 - val_loss: 540.0229\n",
      "Epoch 5/32\n",
      "51/51 [==============================] - 1s 12ms/step - loss: 516.9623 - val_loss: 526.8420\n",
      "Epoch 6/32\n",
      "51/51 [==============================] - 0s 9ms/step - loss: 490.2098 - val_loss: 516.3435\n",
      "Epoch 7/32\n",
      "51/51 [==============================] - 1s 12ms/step - loss: 478.6556 - val_loss: 509.9919\n",
      "Epoch 8/32\n",
      "51/51 [==============================] - 1s 11ms/step - loss: 446.7426 - val_loss: 469.2537\n",
      "Epoch 9/32\n",
      "51/51 [==============================] - 0s 10ms/step - loss: 434.5168 - val_loss: 497.4015\n",
      "Epoch 10/32\n",
      "51/51 [==============================] - 0s 9ms/step - loss: 390.7682 - val_loss: 437.7553\n",
      "Epoch 11/32\n",
      "51/51 [==============================] - 1s 10ms/step - loss: 359.1944 - val_loss: 354.5142\n",
      "Epoch 12/32\n",
      "51/51 [==============================] - 1s 11ms/step - loss: 325.0020 - val_loss: 359.7812\n",
      "Epoch 13/32\n",
      "51/51 [==============================] - 1s 11ms/step - loss: 290.2819 - val_loss: 336.4773\n",
      "Epoch 14/32\n",
      "51/51 [==============================] - 1s 10ms/step - loss: 271.3708 - val_loss: 329.7859\n",
      "Epoch 15/32\n",
      "51/51 [==============================] - 1s 11ms/step - loss: 222.6308 - val_loss: 307.1442\n",
      "Epoch 16/32\n",
      "51/51 [==============================] - 0s 10ms/step - loss: 205.6316 - val_loss: 198.3290\n",
      "Epoch 17/32\n",
      "51/51 [==============================] - 1s 13ms/step - loss: 171.0114 - val_loss: 177.1626\n",
      "Epoch 18/32\n",
      "51/51 [==============================] - 1s 16ms/step - loss: 161.1398 - val_loss: 141.7673\n",
      "Epoch 19/32\n",
      "51/51 [==============================] - 1s 12ms/step - loss: 133.5454 - val_loss: 112.9751\n",
      "Epoch 20/32\n",
      "51/51 [==============================] - 0s 10ms/step - loss: 131.9697 - val_loss: 99.9311\n",
      "Epoch 21/32\n",
      "51/51 [==============================] - 1s 19ms/step - loss: 120.3571 - val_loss: 110.1802\n",
      "Epoch 22/32\n",
      "51/51 [==============================] - 1s 11ms/step - loss: 110.3779 - val_loss: 78.4607\n",
      "Epoch 23/32\n",
      "51/51 [==============================] - 1s 11ms/step - loss: 87.0821 - val_loss: 99.4305\n",
      "Epoch 24/32\n",
      "51/51 [==============================] - 1s 14ms/step - loss: 90.2649 - val_loss: 103.8663\n",
      "Epoch 25/32\n",
      "51/51 [==============================] - 1s 12ms/step - loss: 83.6448 - val_loss: 85.5701\n",
      "Epoch 26/32\n",
      "51/51 [==============================] - 1s 10ms/step - loss: 80.3189 - val_loss: 86.1175\n",
      "Epoch 27/32\n",
      "51/51 [==============================] - 1s 15ms/step - loss: 86.5628 - val_loss: 127.6029\n",
      "Epoch 28/32\n",
      "51/51 [==============================] - 0s 9ms/step - loss: 76.7426 - val_loss: 57.4626\n",
      "Epoch 29/32\n",
      "51/51 [==============================] - 1s 12ms/step - loss: 71.0408 - val_loss: 69.5575\n",
      "Epoch 30/32\n",
      "51/51 [==============================] - 1s 11ms/step - loss: 72.7775 - val_loss: 87.3799\n",
      "Epoch 31/32\n",
      "51/51 [==============================] - 0s 9ms/step - loss: 70.0748 - val_loss: 64.6922\n",
      "Epoch 32/32\n",
      "51/51 [==============================] - 1s 13ms/step - loss: 73.2557 - val_loss: 77.9981\n"
     ]
    },
    {
     "data": {
      "text/plain": [
       "<keras.callbacks.History at 0x104e0d00>"
      ]
     },
     "execution_count": 11,
     "metadata": {},
     "output_type": "execute_result"
    }
   ],
   "source": [
    "model.fit(X_train, y_train,\n",
    "         batch_size=8, epochs=32, verbose=1,\n",
    "         validation_data=(X_valid, y_valid),\n",
    "         callbacks= [modelcheckpoint, tensorboard])"
   ]
  },
  {
   "cell_type": "code",
   "execution_count": null,
   "id": "402d8edf",
   "metadata": {},
   "outputs": [],
   "source": []
  }
 ],
 "metadata": {
  "kernelspec": {
   "display_name": "Python 3",
   "language": "python",
   "name": "python3"
  },
  "language_info": {
   "codemirror_mode": {
    "name": "ipython",
    "version": 3
   },
   "file_extension": ".py",
   "mimetype": "text/x-python",
   "name": "python",
   "nbconvert_exporter": "python",
   "pygments_lexer": "ipython3",
   "version": "3.8.8"
  }
 },
 "nbformat": 4,
 "nbformat_minor": 5
}
