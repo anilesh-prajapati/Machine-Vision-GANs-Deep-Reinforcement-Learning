{
  "cells": [
    {
      "cell_type": "markdown",
      "id": "0db6ee9b",
      "metadata": {
        "id": "0db6ee9b"
      },
      "source": [
        "# Convolutional Sentiment Classifier"
      ]
    },
    {
      "cell_type": "markdown",
      "id": "750cc476",
      "metadata": {
        "id": "750cc476"
      },
      "source": [
        "In this notebook, we build a *convolutional* neural net to classify IMDB movie reviews by their sentiment."
      ]
    },
    {
      "cell_type": "markdown",
      "id": "b7c58a4e",
      "metadata": {
        "id": "b7c58a4e"
      },
      "source": [
        "### Load Dependencies"
      ]
    },
    {
      "cell_type": "code",
      "execution_count": 2,
      "id": "0d519f97",
      "metadata": {
        "id": "0d519f97"
      },
      "outputs": [],
      "source": [
        "import tensorflow\n",
        "from tensorflow.keras.datasets import imdb\n",
        "from tensorflow.keras.preprocessing.sequence import pad_sequences\n",
        "from tensorflow.keras.models import Sequential\n",
        "from tensorflow.keras.layers import Dense, Dropout, Embedding\n",
        "from tensorflow.keras.layers import SpatialDropout1D, Conv1D, GlobalMaxPooling1D # new! \n",
        "from tensorflow.keras.callbacks import ModelCheckpoint\n",
        "import os\n",
        "from sklearn.metrics import roc_auc_score \n",
        "import matplotlib.pyplot as plt "
      ]
    },
    {
      "cell_type": "markdown",
      "id": "736c403b",
      "metadata": {
        "id": "736c403b"
      },
      "source": [
        "### Set Hyperparameters"
      ]
    },
    {
      "cell_type": "code",
      "execution_count": 3,
      "id": "8cd065cb",
      "metadata": {
        "id": "8cd065cb"
      },
      "outputs": [],
      "source": [
        "# output directory name:\n",
        "output_dir = 'model_output/conv'\n",
        "\n",
        "# training :\n",
        "epochs = 4\n",
        "batch_size = 128\n",
        "\n",
        "# vector_spece embedding:\n",
        "n_dim = 64\n",
        "n_unique_words = 5000\n",
        "max_review_length = 400\n",
        "pad_type = trunc_type = 'pre'\n",
        "drop_embed = 0.2 # new!\n",
        "\n",
        "# Convolutional Layer Architecture:\n",
        "n_conv = 256 # filters, a.k.a kernels\n",
        "k_conv = 3 # kernal length\n",
        "\n",
        "# Dense Layer Architecture:\n",
        "n_dense = 256\n",
        "dropout = 0.2"
      ]
    },
    {
      "cell_type": "markdown",
      "id": "02febfbd",
      "metadata": {
        "id": "02febfbd"
      },
      "source": [
        "### Load Data\n"
      ]
    },
    {
      "cell_type": "code",
      "execution_count": 4,
      "id": "1c4fcab3",
      "metadata": {
        "colab": {
          "base_uri": "https://localhost:8080/"
        },
        "id": "1c4fcab3",
        "outputId": "2a871f79-ee20-48e4-bbda-5edb7a4327ca"
      },
      "outputs": [
        {
          "output_type": "stream",
          "name": "stdout",
          "text": [
            "Downloading data from https://storage.googleapis.com/tensorflow/tf-keras-datasets/imdb.npz\n",
            "17464789/17464789 [==============================] - 1s 0us/step\n"
          ]
        }
      ],
      "source": [
        "(x_train, y_train), (x_valid, y_valid) = imdb.load_data(num_words=n_unique_words)"
      ]
    },
    {
      "cell_type": "markdown",
      "id": "48fcc3a3",
      "metadata": {
        "id": "48fcc3a3"
      },
      "source": [
        "### Preprocess Data"
      ]
    },
    {
      "cell_type": "code",
      "execution_count": 5,
      "id": "de5cf275",
      "metadata": {
        "id": "de5cf275"
      },
      "outputs": [],
      "source": [
        "x_train = pad_sequences(x_train, maxlen=max_review_length, padding=pad_type, truncating=trunc_type, value=0)\n",
        "x_valid = pad_sequences(x_valid, maxlen=max_review_length, padding=pad_type, truncating=trunc_type, value=0)\n"
      ]
    },
    {
      "cell_type": "markdown",
      "id": "b26edad2",
      "metadata": {
        "id": "b26edad2"
      },
      "source": [
        "### Design Neural Network Architecture"
      ]
    },
    {
      "cell_type": "code",
      "execution_count": 6,
      "id": "cb04abdf",
      "metadata": {
        "id": "cb04abdf"
      },
      "outputs": [],
      "source": [
        "model = Sequential()\n",
        "\n",
        "# first hidden layer:\n",
        "model.add(Embedding(n_unique_words, n_dim, input_length = max_review_length))\n",
        "model.add(SpatialDropout1D(drop_embed))\n",
        "\n",
        "# second hidden layer:\n",
        "model.add(Conv1D(n_conv, k_conv, activation='relu'))\n",
        "model.add(Conv1D(n_conv, k_conv, activation='relu'))\n",
        "model.add(GlobalMaxPooling1D())\n",
        "\n",
        "# third hidden layer:\n",
        "# model.add(Conv1D(n_conv, k_conv, activation='relu'))\n",
        "# model.add(GlobalMaxPooling1D())\n",
        "\n",
        "# fourth hidden layer:\n",
        "model.add(Dense(n_dense, activation='relu'))\n",
        "model.add(Dropout(dropout))\n",
        "\n",
        "# output layer:\n",
        "model.add(Dense(1, activation='sigmoid'))\n"
      ]
    },
    {
      "cell_type": "code",
      "execution_count": 7,
      "id": "adb657ec",
      "metadata": {
        "colab": {
          "base_uri": "https://localhost:8080/"
        },
        "id": "adb657ec",
        "outputId": "0de00787-c304-4705-b44d-c877f28577b6"
      },
      "outputs": [
        {
          "output_type": "stream",
          "name": "stdout",
          "text": [
            "Model: \"sequential\"\n",
            "_________________________________________________________________\n",
            " Layer (type)                Output Shape              Param #   \n",
            "=================================================================\n",
            " embedding (Embedding)       (None, 400, 64)           320000    \n",
            "                                                                 \n",
            " spatial_dropout1d (SpatialD  (None, 400, 64)          0         \n",
            " ropout1D)                                                       \n",
            "                                                                 \n",
            " conv1d (Conv1D)             (None, 398, 256)          49408     \n",
            "                                                                 \n",
            " conv1d_1 (Conv1D)           (None, 396, 256)          196864    \n",
            "                                                                 \n",
            " global_max_pooling1d (Globa  (None, 256)              0         \n",
            " lMaxPooling1D)                                                  \n",
            "                                                                 \n",
            " dense (Dense)               (None, 256)               65792     \n",
            "                                                                 \n",
            " dropout (Dropout)           (None, 256)               0         \n",
            "                                                                 \n",
            " dense_1 (Dense)             (None, 1)                 257       \n",
            "                                                                 \n",
            "=================================================================\n",
            "Total params: 632,321\n",
            "Trainable params: 632,321\n",
            "Non-trainable params: 0\n",
            "_________________________________________________________________\n"
          ]
        }
      ],
      "source": [
        "model.summary()"
      ]
    },
    {
      "cell_type": "markdown",
      "id": "a9140559",
      "metadata": {
        "id": "a9140559"
      },
      "source": [
        "### Configure Model"
      ]
    },
    {
      "cell_type": "code",
      "execution_count": 8,
      "id": "66a4930a",
      "metadata": {
        "id": "66a4930a"
      },
      "outputs": [],
      "source": [
        "model.compile(loss='binary_crossentropy', optimizer='nadam', metrics=['accuracy'])"
      ]
    },
    {
      "cell_type": "code",
      "execution_count": 9,
      "id": "42479c6c",
      "metadata": {
        "id": "42479c6c"
      },
      "outputs": [],
      "source": [
        "modelcheckpoint = ModelCheckpoint(filepath=output_dir+\"/weights.{epoch:02d}.hdf5\")\n",
        "if not os.path.exists(output_dir):\n",
        "    os.makedirs(output_dir)"
      ]
    },
    {
      "cell_type": "markdown",
      "id": "7e755521",
      "metadata": {
        "id": "7e755521"
      },
      "source": [
        "### Train!"
      ]
    },
    {
      "cell_type": "code",
      "execution_count": 10,
      "id": "45bfcd36",
      "metadata": {
        "colab": {
          "base_uri": "https://localhost:8080/"
        },
        "id": "45bfcd36",
        "outputId": "491bbebd-1c50-4d83-c19b-6404e5d3f8be"
      },
      "outputs": [
        {
          "output_type": "stream",
          "name": "stdout",
          "text": [
            "Epoch 1/4\n",
            "196/196 [==============================] - 17s 42ms/step - loss: 0.4869 - accuracy: 0.7419 - val_loss: 0.3309 - val_accuracy: 0.8578\n",
            "Epoch 2/4\n",
            "196/196 [==============================] - 8s 40ms/step - loss: 0.2838 - accuracy: 0.8824 - val_loss: 0.3169 - val_accuracy: 0.8661\n",
            "Epoch 3/4\n",
            "196/196 [==============================] - 8s 43ms/step - loss: 0.2103 - accuracy: 0.9164 - val_loss: 0.2791 - val_accuracy: 0.8843\n",
            "Epoch 4/4\n",
            "196/196 [==============================] - 8s 43ms/step - loss: 0.1558 - accuracy: 0.9431 - val_loss: 0.2975 - val_accuracy: 0.8829\n"
          ]
        },
        {
          "output_type": "execute_result",
          "data": {
            "text/plain": [
              "<keras.callbacks.History at 0x7fad6f08d650>"
            ]
          },
          "metadata": {},
          "execution_count": 10
        }
      ],
      "source": [
        "model.fit(x_train, y_train, batch_size=batch_size, epochs=epochs, validation_data=(x_valid, y_valid), callbacks=[modelcheckpoint])"
      ]
    },
    {
      "cell_type": "markdown",
      "id": "e3d7b25d",
      "metadata": {
        "id": "e3d7b25d"
      },
      "source": [
        "### Evaluate"
      ]
    },
    {
      "cell_type": "code",
      "execution_count": 13,
      "id": "6382ee20",
      "metadata": {
        "id": "6382ee20"
      },
      "outputs": [],
      "source": [
        "model.load_weights(output_dir+\"/weights.04.hdf5\")"
      ]
    },
    {
      "cell_type": "code",
      "execution_count": 14,
      "id": "7342bd54",
      "metadata": {
        "colab": {
          "base_uri": "https://localhost:8080/"
        },
        "id": "7342bd54",
        "outputId": "4460dd46-d2e1-4e6f-c3a7-f17f18a0ded1"
      },
      "outputs": [
        {
          "output_type": "stream",
          "name": "stdout",
          "text": [
            "782/782 [==============================] - 3s 3ms/step\n"
          ]
        }
      ],
      "source": [
        "y_hat = model.predict(x_valid)"
      ]
    },
    {
      "cell_type": "code",
      "execution_count": 15,
      "id": "c4242964",
      "metadata": {
        "colab": {
          "base_uri": "https://localhost:8080/",
          "height": 265
        },
        "id": "c4242964",
        "outputId": "c397acf1-a2e2-4714-9eb0-87bc580086cf"
      },
      "outputs": [
        {
          "output_type": "display_data",
          "data": {
            "text/plain": [
              "<Figure size 432x288 with 1 Axes>"
            ],
            "image/png": "[encoded data removed]"
          },
          "metadata": {
            "needs_background": "light"
          }
        }
      ],
      "source": [
        "plt.hist(y_hat)\n",
        "_ = plt.axvline(x=0.5, color='orange')"
      ]
    },
    {
      "cell_type": "code",
      "execution_count": 16,
      "id": "c6c059a4",
      "metadata": {
        "colab": {
          "base_uri": "https://localhost:8080/",
          "height": 35
        },
        "id": "c6c059a4",
        "outputId": "e8576876-24cb-4800-af91-5539d39b457e"
      },
      "outputs": [
        {
          "output_type": "execute_result",
          "data": {
            "text/plain": [
              "'95.37'"
            ],
            "application/vnd.google.colaboratory.intrinsic+json": {
              "type": "string"
            }
          },
          "metadata": {},
          "execution_count": 16
        }
      ],
      "source": [
        "\"{:0.2f}\".format(roc_auc_score(y_valid, y_hat)*100.0)"
      ]
    },
    {
      "cell_type": "code",
      "execution_count": null,
      "id": "970e4bd4",
      "metadata": {
        "id": "970e4bd4"
      },
      "outputs": [],
      "source": []
    }
  ],
  "metadata": {
    "kernelspec": {
      "display_name": "Python 3",
      "language": "python",
      "name": "python3"
    },
    "language_info": {
      "codemirror_mode": {
        "name": "ipython",
        "version": 3
      },
      "file_extension": ".py",
      "mimetype": "text/x-python",
      "name": "python",
      "nbconvert_exporter": "python",
      "pygments_lexer": "ipython3",
      "version": "3.8.8"
    },
    "colab": {
      "provenance": []
    },
    "accelerator": "GPU",
    "gpuClass": "standard"
  },
  "nbformat": 4,
  "nbformat_minor": 5
}