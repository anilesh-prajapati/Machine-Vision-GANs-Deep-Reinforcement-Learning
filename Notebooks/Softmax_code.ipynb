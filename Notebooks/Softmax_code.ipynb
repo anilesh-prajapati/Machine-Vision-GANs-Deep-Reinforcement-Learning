{
 "cells": [
  {
   "cell_type": "markdown",
   "id": "44fef6d2",
   "metadata": {},
   "source": [
    "# Softmax"
   ]
  },
  {
   "cell_type": "markdown",
   "id": "219da3fc",
   "metadata": {},
   "source": [
    "### Importing Our Dependency"
   ]
  },
  {
   "cell_type": "code",
   "execution_count": 1,
   "id": "3734ae9a",
   "metadata": {},
   "outputs": [],
   "source": [
    "from math import exp "
   ]
  },
  {
   "cell_type": "markdown",
   "id": "daaa7f72",
   "metadata": {},
   "source": [
    "### Z Value"
   ]
  },
  {
   "cell_type": "code",
   "execution_count": 2,
   "id": "61d159fa",
   "metadata": {},
   "outputs": [],
   "source": [
    "z = [-1, 1, 5.0]"
   ]
  },
  {
   "cell_type": "markdown",
   "id": "a017da32",
   "metadata": {},
   "source": [
    "***Applying the softmax function to this list involves\n",
    " a three step process.***"
   ]
  },
  {
   "cell_type": "markdown",
   "id": "7e574c41",
   "metadata": {},
   "source": [
    "### The first step is to calculate the exponential of each of the z values"
   ]
  },
  {
   "cell_type": "code",
   "execution_count": 3,
   "id": "a98a0f00",
   "metadata": {},
   "outputs": [
    {
     "data": {
      "text/plain": [
       "0.36787944117144233"
      ]
     },
     "execution_count": 3,
     "metadata": {},
     "output_type": "execute_result"
    }
   ],
   "source": [
    "exp(z[0])"
   ]
  },
  {
   "cell_type": "code",
   "execution_count": 5,
   "id": "185010fb",
   "metadata": {},
   "outputs": [
    {
     "data": {
      "text/plain": [
       "2.718281828459045"
      ]
     },
     "execution_count": 5,
     "metadata": {},
     "output_type": "execute_result"
    }
   ],
   "source": [
    "exp(z[1])"
   ]
  },
  {
   "cell_type": "code",
   "execution_count": 6,
   "id": "f8ed62ec",
   "metadata": {},
   "outputs": [
    {
     "data": {
      "text/plain": [
       "148.4131591025766"
      ]
     },
     "execution_count": 6,
     "metadata": {},
     "output_type": "execute_result"
    }
   ],
   "source": [
    "exp(z[2])"
   ]
  },
  {
   "cell_type": "markdown",
   "id": "94ca32fe",
   "metadata": {},
   "source": [
    "### The second step of the softmax function is to sum up our exponentials."
   ]
  },
  {
   "cell_type": "code",
   "execution_count": 7,
   "id": "3237a0e4",
   "metadata": {},
   "outputs": [],
   "source": [
    "total = exp(z[0]) + exp(z[1]) + exp(z[2])"
   ]
  },
  {
   "cell_type": "code",
   "execution_count": 8,
   "id": "e806a8f7",
   "metadata": {},
   "outputs": [
    {
     "data": {
      "text/plain": [
       "151.49932037220708"
      ]
     },
     "execution_count": 8,
     "metadata": {},
     "output_type": "execute_result"
    }
   ],
   "source": [
    "total "
   ]
  },
  {
   "cell_type": "markdown",
   "id": "e9a7a564",
   "metadata": {},
   "source": [
    "### The third and final step, which provides proportions for each of the three classes relative to the sum of all the other classes."
   ]
  },
  {
   "cell_type": "markdown",
   "id": "cb28e31b",
   "metadata": {},
   "source": [
    "#### Y hat for Hot Dog"
   ]
  },
  {
   "cell_type": "code",
   "execution_count": 9,
   "id": "e99cf9f1",
   "metadata": {},
   "outputs": [
    {
     "data": {
      "text/plain": [
       "0.0024282580295913376"
      ]
     },
     "execution_count": 9,
     "metadata": {},
     "output_type": "execute_result"
    }
   ],
   "source": [
    "exp(z[0])/total"
   ]
  },
  {
   "cell_type": "markdown",
   "id": "d0e6fb7c",
   "metadata": {},
   "source": [
    "0.2% chance that this is a Hot Dog."
   ]
  },
  {
   "cell_type": "markdown",
   "id": "b1353e00",
   "metadata": {},
   "source": [
    "#### Y hat for Burger"
   ]
  },
  {
   "cell_type": "code",
   "execution_count": 10,
   "id": "ce25b74c",
   "metadata": {},
   "outputs": [
    {
     "data": {
      "text/plain": [
       "0.017942534803329194"
      ]
     },
     "execution_count": 10,
     "metadata": {},
     "output_type": "execute_result"
    }
   ],
   "source": [
    "exp(z[1])/total"
   ]
  },
  {
   "cell_type": "markdown",
   "id": "83882eba",
   "metadata": {},
   "source": [
    "1.8% chance that this is a Burger."
   ]
  },
  {
   "cell_type": "markdown",
   "id": "ed33515a",
   "metadata": {},
   "source": [
    "#### Y hat for Pizza"
   ]
  },
  {
   "cell_type": "code",
   "execution_count": 11,
   "id": "230e9dd6",
   "metadata": {
    "scrolled": true
   },
   "outputs": [
    {
     "data": {
      "text/plain": [
       "0.9796292071670795"
      ]
     },
     "execution_count": 11,
     "metadata": {},
     "output_type": "execute_result"
    }
   ],
   "source": [
    "exp(z[2])/total"
   ]
  },
  {
   "cell_type": "markdown",
   "id": "5ea79740",
   "metadata": {},
   "source": [
    "98%  chance that this is a Pizza"
   ]
  },
  {
   "cell_type": "code",
   "execution_count": null,
   "id": "ba65b6b1",
   "metadata": {},
   "outputs": [],
   "source": []
  }
 ],
 "metadata": {
  "kernelspec": {
   "display_name": "Python 3",
   "language": "python",
   "name": "python3"
  },
  "language_info": {
   "codemirror_mode": {
    "name": "ipython",
    "version": 3
   },
   "file_extension": ".py",
   "mimetype": "text/x-python",
   "name": "python",
   "nbconvert_exporter": "python",
   "pygments_lexer": "ipython3",
   "version": "3.8.8"
  }
 },
 "nbformat": 4,
 "nbformat_minor": 5
}
