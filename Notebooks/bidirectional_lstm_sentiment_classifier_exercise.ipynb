{
  "nbformat": 4,
  "nbformat_minor": 0,
  "metadata": {
    "colab": {
      "provenance": []
    },
    "kernelspec": {
      "name": "python3",
      "display_name": "Python 3"
    },
    "language_info": {
      "name": "python"
    },
    "accelerator": "GPU",
    "gpuClass": "standard"
  },
  "cells": [
    {
      "cell_type": "code",
      "execution_count": null,
      "metadata": {
        "id": "IXPHPqGfGboa"
      },
      "outputs": [],
      "source": []
    },
    {
      "cell_type": "markdown",
      "source": [
        "# Bidirectional LSTM Sentiment Classifier"
      ],
      "metadata": {
        "id": "tygLf09iGetM"
      }
    },
    {
      "cell_type": "markdown",
      "source": [
        "In this notebook, we use a bidirectional LSTM to classify IMDB movie reviews by their sentiment."
      ],
      "metadata": {
        "id": "Mvw3VqKDGk9j"
      }
    },
    {
      "cell_type": "markdown",
      "source": [
        "### Load Dependencies"
      ],
      "metadata": {
        "id": "dqXiQmDBGvPb"
      }
    },
    {
      "cell_type": "code",
      "source": [
        "import tensorflow\n",
        "from tensorflow.keras.datasets import imdb\n",
        "from tensorflow.keras.preprocessing.sequence import pad_sequences\n",
        "from tensorflow.keras.models import Sequential\n",
        "from tensorflow.keras.layers import Dense, Dropout, Embedding, SpatialDropout1D, LSTM\n",
        "from tensorflow.keras.layers import Bidirectional # new! \n",
        "from tensorflow.keras.callbacks import ModelCheckpoint\n",
        "import os\n",
        "from sklearn.metrics import roc_auc_score \n",
        "import matplotlib.pyplot as plt"
      ],
      "metadata": {
        "id": "hRBwyB-YGkM3"
      },
      "execution_count": 1,
      "outputs": []
    },
    {
      "cell_type": "markdown",
      "source": [
        "### Set Hyperparameters"
      ],
      "metadata": {
        "id": "YtHfwSa1G2XL"
      }
    },
    {
      "cell_type": "code",
      "source": [
        "# output directory name:\n",
        "output_dir = 'model_output/biLSTM'\n",
        "\n",
        "# training:\n",
        "epochs = 20\n",
        "batch_size = 128\n",
        "\n",
        "# vector-space embedding: \n",
        "n_dim = 64 \n",
        "n_unique_words = 10000 \n",
        "max_review_length = 200 # doubled!\n",
        "pad_type = trunc_type = 'pre'\n",
        "drop_embed = 0.2 \n",
        "\n",
        "# LSTM layer architecture:\n",
        "n_lstm = 256 \n",
        "drop_lstm = 0.2"
      ],
      "metadata": {
        "id": "E5qw3_CLG6a7"
      },
      "execution_count": 2,
      "outputs": []
    },
    {
      "cell_type": "markdown",
      "source": [
        "### Load Data"
      ],
      "metadata": {
        "id": "2OrvewErG_lD"
      }
    },
    {
      "cell_type": "code",
      "source": [
        "(x_train, y_train), (x_valid, y_valid) = imdb.load_data(num_words=n_unique_words) # removed n_words_to_skip"
      ],
      "metadata": {
        "colab": {
          "base_uri": "https://localhost:8080/"
        },
        "id": "XQZn59ilHBU_",
        "outputId": "9ccbec0e-083f-4b3f-c7c5-231c561dc38d"
      },
      "execution_count": 3,
      "outputs": [
        {
          "output_type": "stream",
          "name": "stdout",
          "text": [
            "Downloading data from https://storage.googleapis.com/tensorflow/tf-keras-datasets/imdb.npz\n",
            "17464789/17464789 [==============================] - 2s 0us/step\n"
          ]
        }
      ]
    },
    {
      "cell_type": "markdown",
      "source": [
        "### Preprocess Data"
      ],
      "metadata": {
        "id": "AZmiYqUgHEO0"
      }
    },
    {
      "cell_type": "code",
      "source": [
        "x_train = pad_sequences(x_train, maxlen=max_review_length, padding=pad_type, truncating=trunc_type, value=0)\n",
        "x_valid = pad_sequences(x_valid, maxlen=max_review_length, padding=pad_type, truncating=trunc_type, value=0)"
      ],
      "metadata": {
        "id": "ACRWe4RhHGhF"
      },
      "execution_count": 4,
      "outputs": []
    },
    {
      "cell_type": "markdown",
      "source": [
        "### Design Neural Network Architecture"
      ],
      "metadata": {
        "id": "UrQWCjH7HLDy"
      }
    },
    {
      "cell_type": "code",
      "source": [
        "model = Sequential()\n",
        "\n",
        "# First Hidden Layer:\n",
        "model.add(Embedding(n_unique_words, n_dim, input_length=max_review_length)) \n",
        "model.add(SpatialDropout1D(drop_embed))\n",
        "\n",
        "# Second Hidden Layer:\n",
        "model.add(Bidirectional(LSTM(n_lstm, dropout=drop_lstm)))\n",
        "\n",
        "\n",
        "# Output Layer:\n",
        "model.add(Dense(1, activation='sigmoid'))"
      ],
      "metadata": {
        "id": "UPKPzMqDHTTu"
      },
      "execution_count": 5,
      "outputs": []
    },
    {
      "cell_type": "code",
      "source": [
        "# LSTM layer parameters double due to both reading directions\n",
        "model.summary() "
      ],
      "metadata": {
        "colab": {
          "base_uri": "https://localhost:8080/"
        },
        "id": "egQaQ2WcHjye",
        "outputId": "2185bd89-76ef-4732-8bd0-ab1a3325af65"
      },
      "execution_count": 6,
      "outputs": [
        {
          "output_type": "stream",
          "name": "stdout",
          "text": [
            "Model: \"sequential\"\n",
            "_________________________________________________________________\n",
            " Layer (type)                Output Shape              Param #   \n",
            "=================================================================\n",
            " embedding (Embedding)       (None, 200, 64)           640000    \n",
            "                                                                 \n",
            " spatial_dropout1d (SpatialD  (None, 200, 64)          0         \n",
            " ropout1D)                                                       \n",
            "                                                                 \n",
            " bidirectional (Bidirectiona  (None, 512)              657408    \n",
            " l)                                                              \n",
            "                                                                 \n",
            " dense (Dense)               (None, 1)                 513       \n",
            "                                                                 \n",
            "=================================================================\n",
            "Total params: 1,297,921\n",
            "Trainable params: 1,297,921\n",
            "Non-trainable params: 0\n",
            "_________________________________________________________________\n"
          ]
        }
      ]
    },
    {
      "cell_type": "markdown",
      "source": [
        "### Configure Model"
      ],
      "metadata": {
        "id": "lAy91dfFHnCY"
      }
    },
    {
      "cell_type": "code",
      "source": [
        "model.compile(loss='binary_crossentropy', optimizer='nadam', metrics=['accuracy'])"
      ],
      "metadata": {
        "id": "ptWXPWZyHpye"
      },
      "execution_count": 7,
      "outputs": []
    },
    {
      "cell_type": "code",
      "source": [
        "modelcheckpoint = ModelCheckpoint(filepath=output_dir+\"/weights.{epoch:02d}.hdf5\")\n",
        "if not os.path.exists(output_dir):\n",
        "    os.makedirs(output_dir)"
      ],
      "metadata": {
        "id": "w9aPGsvUHys0"
      },
      "execution_count": 8,
      "outputs": []
    },
    {
      "cell_type": "markdown",
      "source": [
        "### Train !"
      ],
      "metadata": {
        "id": "dTggCpWSH1Wa"
      }
    },
    {
      "cell_type": "code",
      "source": [
        "# - with this toy dataset, the complex interplay of words over long sentence segments, won't be learned much\n",
        "# - so our CNN picking up location-invariant segments of two to four words that predict review sentiment\n",
        "# - these are simpler and so easier to learn from the data\n",
        "# - CNN therefore outperforms on the IMDB data set\n",
        "model.fit(x_train, y_train, batch_size=batch_size, epochs=epochs, verbose=1, validation_data=(x_valid, y_valid), callbacks=[modelcheckpoint])"
      ],
      "metadata": {
        "colab": {
          "base_uri": "https://localhost:8080/"
        },
        "id": "H9iiGlIcH2zV",
        "outputId": "960f85e5-8546-4964-9f24-605e9f411990"
      },
      "execution_count": 9,
      "outputs": [
        {
          "output_type": "stream",
          "name": "stdout",
          "text": [
            "Epoch 1/20\n",
            "196/196 [==============================] - 25s 79ms/step - loss: 0.5989 - accuracy: 0.6846 - val_loss: 0.4441 - val_accuracy: 0.8118\n",
            "Epoch 2/20\n",
            "196/196 [==============================] - 14s 72ms/step - loss: 0.3766 - accuracy: 0.8425 - val_loss: 0.5317 - val_accuracy: 0.7355\n",
            "Epoch 3/20\n",
            "196/196 [==============================] - 14s 74ms/step - loss: 0.3536 - accuracy: 0.8542 - val_loss: 0.3817 - val_accuracy: 0.8430\n",
            "Epoch 4/20\n",
            "196/196 [==============================] - 14s 73ms/step - loss: 0.2758 - accuracy: 0.8937 - val_loss: 0.3447 - val_accuracy: 0.8602\n",
            "Epoch 5/20\n",
            "196/196 [==============================] - 14s 72ms/step - loss: 0.2262 - accuracy: 0.9132 - val_loss: 0.3472 - val_accuracy: 0.8676\n",
            "Epoch 6/20\n",
            "196/196 [==============================] - 14s 74ms/step - loss: 0.1948 - accuracy: 0.9264 - val_loss: 0.3682 - val_accuracy: 0.8567\n",
            "Epoch 7/20\n",
            "196/196 [==============================] - 14s 72ms/step - loss: 0.1914 - accuracy: 0.9318 - val_loss: 0.3617 - val_accuracy: 0.8657\n",
            "Epoch 8/20\n",
            "196/196 [==============================] - 14s 73ms/step - loss: 0.1542 - accuracy: 0.9454 - val_loss: 0.3555 - val_accuracy: 0.8630\n",
            "Epoch 9/20\n",
            "196/196 [==============================] - 14s 73ms/step - loss: 0.1329 - accuracy: 0.9526 - val_loss: 0.4039 - val_accuracy: 0.8630\n",
            "Epoch 10/20\n",
            "196/196 [==============================] - 14s 72ms/step - loss: 0.1217 - accuracy: 0.9570 - val_loss: 0.4034 - val_accuracy: 0.8606\n",
            "Epoch 11/20\n",
            "196/196 [==============================] - 14s 73ms/step - loss: 0.1202 - accuracy: 0.9586 - val_loss: 0.4592 - val_accuracy: 0.8564\n",
            "Epoch 12/20\n",
            "196/196 [==============================] - 14s 73ms/step - loss: 0.0988 - accuracy: 0.9669 - val_loss: 0.5159 - val_accuracy: 0.8579\n",
            "Epoch 13/20\n",
            "196/196 [==============================] - 14s 73ms/step - loss: 0.0879 - accuracy: 0.9703 - val_loss: 0.4673 - val_accuracy: 0.8578\n",
            "Epoch 14/20\n",
            "196/196 [==============================] - 14s 73ms/step - loss: 0.0799 - accuracy: 0.9731 - val_loss: 0.5909 - val_accuracy: 0.8368\n",
            "Epoch 15/20\n",
            "196/196 [==============================] - 14s 73ms/step - loss: 0.0904 - accuracy: 0.9688 - val_loss: 0.4906 - val_accuracy: 0.8583\n",
            "Epoch 16/20\n",
            "196/196 [==============================] - 14s 73ms/step - loss: 0.0789 - accuracy: 0.9734 - val_loss: 0.4964 - val_accuracy: 0.8560\n",
            "Epoch 17/20\n",
            "196/196 [==============================] - 14s 74ms/step - loss: 0.0600 - accuracy: 0.9798 - val_loss: 0.5285 - val_accuracy: 0.8428\n",
            "Epoch 18/20\n",
            "196/196 [==============================] - 14s 73ms/step - loss: 0.0630 - accuracy: 0.9796 - val_loss: 0.6199 - val_accuracy: 0.8240\n",
            "Epoch 19/20\n",
            "196/196 [==============================] - 14s 73ms/step - loss: 0.0506 - accuracy: 0.9838 - val_loss: 0.5426 - val_accuracy: 0.8552\n",
            "Epoch 20/20\n",
            "196/196 [==============================] - 14s 73ms/step - loss: 0.0533 - accuracy: 0.9835 - val_loss: 0.5721 - val_accuracy: 0.8555\n"
          ]
        },
        {
          "output_type": "execute_result",
          "data": {
            "text/plain": [
              "<keras.callbacks.History at 0x7f7516060a50>"
            ]
          },
          "metadata": {},
          "execution_count": 9
        }
      ]
    },
    {
      "cell_type": "markdown",
      "source": [
        "### Evaluate "
      ],
      "metadata": {
        "id": "7a34kzu1H6r0"
      }
    },
    {
      "cell_type": "code",
      "source": [
        "model.load_weights(output_dir+\"/weights.04.hdf5\") "
      ],
      "metadata": {
        "id": "QzUtliJxH-SN"
      },
      "execution_count": 10,
      "outputs": []
    },
    {
      "cell_type": "code",
      "source": [
        "y_hat = model.predict(x_valid)"
      ],
      "metadata": {
        "colab": {
          "base_uri": "https://localhost:8080/"
        },
        "id": "6kPfqkt0IAnj",
        "outputId": "0b7d040b-7fe4-419c-feac-55a462b01519"
      },
      "execution_count": 12,
      "outputs": [
        {
          "output_type": "stream",
          "name": "stdout",
          "text": [
            "782/782 [==============================] - 9s 10ms/step\n"
          ]
        }
      ]
    },
    {
      "cell_type": "code",
      "source": [
        "plt.hist(y_hat)\n",
        "_ = plt.axvline(x=0.5, color='orange')"
      ],
      "metadata": {
        "colab": {
          "base_uri": "https://localhost:8080/",
          "height": 265
        },
        "id": "UolwelWaICFq",
        "outputId": "e2f36f44-6e10-4261-cc99-7f3ba8f075c1"
      },
      "execution_count": 13,
      "outputs": [
        {
          "output_type": "display_data",
          "data": {
            "text/plain": [
              "<Figure size 432x288 with 1 Axes>"
            ],
            "image/png": "[encoded data removed]"
          },
          "metadata": {
            "needs_background": "light"
          }
        }
      ]
    },
    {
      "cell_type": "code",
      "source": [
        "\"{:0.2f}\".format(roc_auc_score(y_valid, y_hat)*100.0)"
      ],
      "metadata": {
        "colab": {
          "base_uri": "https://localhost:8080/",
          "height": 35
        },
        "id": "pr76eppeIEXy",
        "outputId": "6c25ba6b-48e3-47f2-a5d2-12f18e51b747"
      },
      "execution_count": 14,
      "outputs": [
        {
          "output_type": "execute_result",
          "data": {
            "text/plain": [
              "'93.17'"
            ],
            "application/vnd.google.colaboratory.intrinsic+json": {
              "type": "string"
            }
          },
          "metadata": {},
          "execution_count": 14
        }
      ]
    }
  ]
}